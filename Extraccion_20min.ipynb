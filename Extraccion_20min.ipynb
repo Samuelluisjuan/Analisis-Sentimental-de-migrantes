{
 "cells": [
  {
   "cell_type": "code",
   "execution_count": 1,
   "metadata": {},
   "outputs": [
    {
     "ename": "ModuleNotFoundError",
     "evalue": "No module named 'tweepy'",
     "output_type": "error",
     "traceback": [
      "\u001b[0;31m---------------------------------------------------------------------------\u001b[0m",
      "\u001b[0;31mModuleNotFoundError\u001b[0m                       Traceback (most recent call last)",
      "Cell \u001b[0;32mIn[1], line 2\u001b[0m\n\u001b[1;32m      1\u001b[0m \u001b[38;5;28;01mimport\u001b[39;00m \u001b[38;5;21;01mpandas\u001b[39;00m \u001b[38;5;28;01mas\u001b[39;00m \u001b[38;5;21;01mpd\u001b[39;00m\n\u001b[0;32m----> 2\u001b[0m \u001b[38;5;28;01mimport\u001b[39;00m \u001b[38;5;21;01mtweepy\u001b[39;00m\n\u001b[1;32m      3\u001b[0m \u001b[38;5;28;01mimport\u001b[39;00m \u001b[38;5;21;01mrandom\u001b[39;00m\n\u001b[1;32m      4\u001b[0m \u001b[38;5;28;01mimport\u001b[39;00m \u001b[38;5;21;01mtime\u001b[39;00m\n",
      "\u001b[0;31mModuleNotFoundError\u001b[0m: No module named 'tweepy'"
     ]
    }
   ],
   "source": [
    "import pandas as pd\n",
    "import tweepy\n",
    "import random\n",
    "import time"
   ]
  },
  {
   "cell_type": "code",
   "execution_count": null,
   "metadata": {},
   "outputs": [],
   "source": [
    "# Configuración de la API de Twitter (asegúrate de tener tus propias claves)\n",
    "api_key = \"t1TmTGZfCfebvaseP7Wz4yUP3\"\n",
    "api_secret_key = \"KNZ6KfPRvGzQsEQ5JF4JRF91orVCx8rasCbTBlQjhPYDBIaxBl\"\n",
    "bearer_token = \"AAAAAAAAAAAAAAAAAAAAAHX5ugEAAAAAO%2B6Tbx1WdlxdeOjz3rPiE%2BuZTaQ%3DibH5C0VfuLxMs8mGfULfzVR6SsRZH0zHeVEunNnHkGYnE9F1H3\"\n",
    "\n",
    "# Autenticación con la API de Twitter\n",
    "client = tweepy.Client(bearer_token=bearer_token, wait_on_rate_limit=True)"
   ]
  },
  {
   "cell_type": "code",
   "execution_count": null,
   "metadata": {},
   "outputs": [],
   "source": [
    "lexicon_optimizado = [\n",
    "    \"Albergue México\",\n",
    "    \"Asilo México\",\n",
    "    \"Centro de detención México\",\n",
    "    \"Coyotes México\",\n",
    "    \"Deportación México\",\n",
    "    \"Discriminación México\",\n",
    "    \"Muro fronterizo México\",\n",
    "    \"Organizaciones no gubernamentales (ONGs) México\",\n",
    "    \"Refugiado México\",\n",
    "    \"Regularización México\",\n",
    "    \"Tráfico de personas México\",\n",
    "    \"Visado de tránsito México\",\n",
    "    \"Xenofobia México\",\n",
    "    \"Migración México\",\n",
    "    \"Migrante México\",\n",
    "    \"Inmigración México\",\n",
    "    \"Inmigrante México\"\n",
    "]"
   ]
  },
  {
   "cell_type": "code",
   "execution_count": null,
   "metadata": {},
   "outputs": [
    {
     "name": "stdout",
     "output_type": "stream",
     "text": [
      "Extracted tweets for keyword: Migración México\n",
      "Extracted tweets for keyword: Xenofobia México\n",
      "Extracted tweets for keyword: Organizaciones no gubernamentales (ONGs) México\n",
      "Extracted tweets for keyword: Asilo México\n",
      "Extracted tweets for keyword: Visado de tránsito México\n",
      "Extracted tweets for keyword: Inmigrante México\n",
      "Extracted tweets for keyword: Muro fronterizo México\n",
      "Extracted tweets for keyword: Inmigración México\n",
      "Extracted tweets for keyword: Discriminación México\n",
      "Extracted tweets for keyword: Albergue México\n",
      "Extracted tweets for keyword: Migrante México\n",
      "Extracted tweets for keyword: Centro de detención México\n",
      "Extracted tweets for keyword: Tráfico de personas México\n",
      "Extracted tweets for keyword: Regularización México\n",
      "Extracted tweets for keyword: Deportación México\n",
      "            keyword                created_at             user_id  \\\n",
      "0  Migración México 2024-08-07 20:26:05+00:00            42832810   \n",
      "1  Migración México 2024-08-07 20:15:00+00:00           184827671   \n",
      "2  Migración México 2024-08-07 20:01:41+00:00           376427973   \n",
      "3  Migración México 2024-08-07 20:00:43+00:00  816285077432844289   \n",
      "4  Migración México 2024-08-07 19:54:54+00:00           123622674   \n",
      "5  Migración México 2024-08-07 19:41:08+00:00           449165370   \n",
      "6  Migración México 2024-08-07 19:37:00+00:00          2539968252   \n",
      "7  Migración México 2024-08-07 19:30:00+00:00           748110248   \n",
      "8  Migración México 2024-08-07 19:25:38+00:00           288857381   \n",
      "9  Migración México 2024-08-07 19:24:48+00:00           143839873   \n",
      "\n",
      "                                                text  \n",
      "0  Migración irregular en México aumentó casi 200...  \n",
      "1  #México | López Obrador calificó las acusacion...  \n",
      "2  #Migración Texas amplía su controversial alamb...  \n",
      "3  #Nacionales La migración irregular a través de...  \n",
      "4  #ClassInforma #7Ago \\n\\nLa migración irregular...  \n",
      "5  @CFKArgentina @Claudiashein Lo lamento por Méx...  \n",
      "6  Economía de México,hecha pedazos por el idiota...  \n",
      "7  📈🌍 La migración irregular a través de México a...  \n",
      "8  Revista Q #Noticias \\nLa migración irregular a...  \n",
      "9  #Nicaragua #Migracion Nicaragüense desaparecid...  \n"
     ]
    }
   ],
   "source": [
    "\n",
    "# Función para buscar tweets usando el léxico\n",
    "def search_tweets(keywords):\n",
    "    tweets_data = []\n",
    "    for word in keywords:\n",
    "        query = f\"{word} lang:es -is:retweet\"\n",
    "        try:\n",
    "            for tweet in tweepy.Paginator(client.search_recent_tweets, query=query, tweet_fields=['created_at', 'text', 'author_id'], max_results=10).flatten(limit=10):\n",
    "                tweets_data.append({\n",
    "                    'keyword': word,\n",
    "                    'created_at': tweet.created_at,\n",
    "                    'user_id': tweet.author_id,\n",
    "                    'text': tweet.text\n",
    "                })\n",
    "            print(f\"Extracted tweets for keyword: {word}\")\n",
    "        except tweepy.TweepyException as e:\n",
    "            print(f\"Error: {e}\")\n",
    "    return tweets_data\n",
    "\n",
    "# Bucle para ejecutar la búsqueda de tweets cada 20 minutos\n",
    "while True:\n",
    "    # Seleccionar 15 palabras clave aleatorias del léxico\n",
    "    selected_keywords = random.sample(lexicon_optimizado, 15)\n",
    "    \n",
    "    # Buscar tweets\n",
    "    tweets_data = search_tweets(selected_keywords)\n",
    "    \n",
    "    # Convertir los datos a un DataFrame de pandas\n",
    "    df_tweets = pd.DataFrame(tweets_data)\n",
    "    \n",
    "    # Guardar los tweets en un archivo CSV\n",
    "    df_tweets.to_csv('tweets_relevantes.csv', mode='a', header=not pd.io.common.file_exists('tweets_relevantes.csv'), index=False, encoding='utf-8-sig')\n",
    "    \n",
    "    # Mostrar algunos ejemplos de tweets encontrados\n",
    "    print(df_tweets.head(10))\n",
    "    \n",
    "    # Esperar 20 minutos antes de la siguiente ejecución\n",
    "    time.sleep(1200)"
   ]
  },
  {
   "cell_type": "code",
   "execution_count": null,
   "metadata": {},
   "outputs": [],
   "source": []
  }
 ],
 "metadata": {
  "kernelspec": {
   "display_name": "Python 3",
   "language": "python",
   "name": "python3"
  },
  "language_info": {
   "codemirror_mode": {
    "name": "ipython",
    "version": 3
   },
   "file_extension": ".py",
   "mimetype": "text/x-python",
   "name": "python",
   "nbconvert_exporter": "python",
   "pygments_lexer": "ipython3",
   "version": "3.11.9"
  }
 },
 "nbformat": 4,
 "nbformat_minor": 2
}
