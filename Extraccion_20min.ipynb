{
 "cells": [
  {
   "cell_type": "code",
   "execution_count": 1,
   "metadata": {},
   "outputs": [],
   "source": [
    "import pandas as pd\n",
    "import tweepy\n",
    "import random\n",
    "import time\n"
   ]
  },
  {
   "cell_type": "code",
   "execution_count": 2,
   "metadata": {},
   "outputs": [],
   "source": [
    "# Configuración de la API de Twitter (asegúrate de tener tus propias claves)\n",
    "api_key = \"t1TmTGZfCfebvaseP7Wz4yUP3\"\n",
    "api_secret_key = \"KNZ6KfPRvGzQsEQ5JF4JRF91orVCx8rasCbTBlQjhPYDBIaxBl\"\n",
    "bearer_token = \"AAAAAAAAAAAAAAAAAAAAAHX5ugEAAAAAO%2B6Tbx1WdlxdeOjz3rPiE%2BuZTaQ%3DibH5C0VfuLxMs8mGfULfzVR6SsRZH0zHeVEunNnHkGYnE9F1H3\"\n",
    "\n",
    "# Autenticación con la API de Twitter\n",
    "client = tweepy.Client(bearer_token=bearer_token, wait_on_rate_limit=True)"
   ]
  },
  {
   "cell_type": "code",
   "execution_count": 3,
   "metadata": {},
   "outputs": [],
   "source": [
    "# Léxico de palabras clave refinado y ampliado\n",
    "lexicon_optimizado = [\n",
    "    \"asilo\", \"refugio\", \"inmigrante\", \"deportación\", \"residencia\", \"permiso\",\n",
    "    \"miedo\", \"esperanza\", \"tristeza\", \"alegría\", \"frustración\", \"alivio\", \"ansiedad\", \"gratitud\",\n",
    "    \"cruce\", \"frontera\", \"travesía\", \"ruta\", \"caravana\", \"coyotes\", \"rutas peligrosas\",\n",
    "    \"violencia\", \"detención\", \"extorsión\", \"discriminación\", \"inseguridad\", \"peligro\",\n",
    "    \"familia\", \"hijos\", \"separación\", \"comunidad\", \"apoyo\", \"solidaridad\",\n",
    "    \"albergue\", \"comida\", \"salud\", \"educación\", \"trabajo\", \"ayuda\", \"recursos\",\n",
    "    \"México\", \"Estados Unidos\", \"Guatemala\", \"Tijuana\", \"Tapachula\", \"frontera norte\", \"frontera sur\",\n",
    "    \"buscando una vida mejor\", \"huyendo de la violencia\", \"cruzar la frontera\", \"en busca de asilo\"\n",
    "]"
   ]
  },
  {
   "cell_type": "code",
   "execution_count": 4,
   "metadata": {},
   "outputs": [
    {
     "name": "stdout",
     "output_type": "stream",
     "text": [
      "Extracted tweets for keyword: solidaridad\n",
      "Extracted tweets for keyword: Tapachula\n",
      "Extracted tweets for keyword: rutas peligrosas\n",
      "Extracted tweets for keyword: ruta\n",
      "Extracted tweets for keyword: comida\n",
      "Extracted tweets for keyword: Tijuana\n",
      "Extracted tweets for keyword: trabajo\n",
      "Extracted tweets for keyword: comunidad\n",
      "Extracted tweets for keyword: huyendo de la violencia\n",
      "Extracted tweets for keyword: permiso\n",
      "Extracted tweets for keyword: cruce\n",
      "Extracted tweets for keyword: refugio\n",
      "Extracted tweets for keyword: en busca de asilo\n",
      "Extracted tweets for keyword: ayuda\n",
      "Extracted tweets for keyword: esperanza\n",
      "       keyword                created_at              user_id  \\\n",
      "0  solidaridad 2024-07-10 20:55:18+00:00  1670863903465537539   \n",
      "1  solidaridad 2024-07-10 20:55:15+00:00  1669003341995679746   \n",
      "2  solidaridad 2024-07-10 20:54:49+00:00            236997217   \n",
      "3  solidaridad 2024-07-10 20:54:35+00:00   789096753450651648   \n",
      "4  solidaridad 2024-07-10 20:54:23+00:00   740966304543178752   \n",
      "5  solidaridad 2024-07-10 20:54:13+00:00  1802448197714857984   \n",
      "6  solidaridad 2024-07-10 20:54:02+00:00            122204315   \n",
      "7  solidaridad 2024-07-10 20:53:58+00:00           1489293456   \n",
      "8  solidaridad 2024-07-10 20:53:53+00:00  1784951352604430336   \n",
      "9  solidaridad 2024-07-10 20:52:52+00:00            289085598   \n",
      "\n",
      "                                                text  \n",
      "0  #Comunicado\\nSolidaridad con los  trabajadores...  \n",
      "1  @JFalcalde UCS es partido de unidad, solidarid...  \n",
      "2  Condeno total a los actos de violencia sufrido...  \n",
      "3  La cumbre de CCAA para acoger a menores migran...  \n",
      "4  Protegen a la tortuga marina en Solidaridad\\nh...  \n",
      "5  @Capitana_espana La solidaridad está bien mien...  \n",
      "6  @JaimeBN1987 Porque siendo España la entrada a...  \n",
      "7  @TatianaAndia Doctora @TatianaAndia toda la so...  \n",
      "8  @RenaceCumanacoa @NicolasMaduro La situación e...  \n",
      "9  A la derecha se le llena la boca con la unidad...  \n"
     ]
    }
   ],
   "source": [
    "\n",
    "# Función para buscar tweets usando el léxico\n",
    "def search_tweets(keywords):\n",
    "    tweets_data = []\n",
    "    for word in keywords:\n",
    "        query = f\"{word} lang:es -is:retweet\"\n",
    "        try:\n",
    "            for tweet in tweepy.Paginator(client.search_recent_tweets, query=query, tweet_fields=['created_at', 'text', 'author_id'], max_results=10).flatten(limit=10):\n",
    "                tweets_data.append({\n",
    "                    'keyword': word,\n",
    "                    'created_at': tweet.created_at,\n",
    "                    'user_id': tweet.author_id,\n",
    "                    'text': tweet.text\n",
    "                })\n",
    "            print(f\"Extracted tweets for keyword: {word}\")\n",
    "        except tweepy.TweepyException as e:\n",
    "            print(f\"Error: {e}\")\n",
    "    return tweets_data\n",
    "\n",
    "# Bucle para ejecutar la búsqueda de tweets cada 20 minutos\n",
    "while True:\n",
    "    # Seleccionar 15 palabras clave aleatorias del léxico\n",
    "    selected_keywords = random.sample(lexicon_optimizado, 15)\n",
    "    \n",
    "    # Buscar tweets\n",
    "    tweets_data = search_tweets(selected_keywords)\n",
    "    \n",
    "    # Convertir los datos a un DataFrame de pandas\n",
    "    df_tweets = pd.DataFrame(tweets_data)\n",
    "    \n",
    "    # Guardar los tweets en un archivo CSV\n",
    "    df_tweets.to_csv('tweets_migracion.csv', mode='a', header=not pd.io.common.file_exists('tweets_migracion.csv'), index=False, encoding='utf-8-sig')\n",
    "    \n",
    "    # Mostrar algunos ejemplos de tweets encontrados\n",
    "    print(df_tweets.head(10))\n",
    "    \n",
    "    # Esperar 20 minutos antes de la siguiente ejecución\n",
    "    time.sleep(1200)"
   ]
  },
  {
   "cell_type": "code",
   "execution_count": null,
   "metadata": {},
   "outputs": [],
   "source": [
    "display(tweets_data)"
   ]
  }
 ],
 "metadata": {
  "kernelspec": {
   "display_name": "Python 3",
   "language": "python",
   "name": "python3"
  },
  "language_info": {
   "codemirror_mode": {
    "name": "ipython",
    "version": 3
   },
   "file_extension": ".py",
   "mimetype": "text/x-python",
   "name": "python",
   "nbconvert_exporter": "python",
   "pygments_lexer": "ipython3",
   "version": "3.12.4"
  }
 },
 "nbformat": 4,
 "nbformat_minor": 2
}
