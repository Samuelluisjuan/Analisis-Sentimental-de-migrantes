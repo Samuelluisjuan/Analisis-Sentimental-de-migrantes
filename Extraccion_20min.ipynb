{
 "cells": [
  {
   "cell_type": "code",
   "execution_count": 2,
   "metadata": {},
   "outputs": [],
   "source": [
    "import pandas as pd\n",
    "import tweepy\n",
    "import random\n",
    "import time"
   ]
  },
  {
   "cell_type": "code",
   "execution_count": 3,
   "metadata": {},
   "outputs": [],
   "source": [
    "# Configuración de la API de Twitter (asegúrate de tener tus propias claves)\n",
    "api_key = \"t1TmTGZfCfebvaseP7Wz4yUP3\"\n",
    "api_secret_key = \"KNZ6KfPRvGzQsEQ5JF4JRF91orVCx8rasCbTBlQjhPYDBIaxBl\"\n",
    "bearer_token = \"AAAAAAAAAAAAAAAAAAAAAHX5ugEAAAAAO%2B6Tbx1WdlxdeOjz3rPiE%2BuZTaQ%3DibH5C0VfuLxMs8mGfULfzVR6SsRZH0zHeVEunNnHkGYnE9F1H3\"\n",
    "\n",
    "# Autenticación con la API de Twitter\n",
    "client = tweepy.Client(bearer_token=bearer_token, wait_on_rate_limit=True)"
   ]
  },
  {
   "cell_type": "code",
   "execution_count": 4,
   "metadata": {},
   "outputs": [],
   "source": [
    "# Léxico de palabras clave refinado y ampliado\n",
    "lexicon_optimizado = [\n",
    "    \"asilo\", \"refugio\", \"inmigrante\", \"deportación\", \"residencia\", \"permiso\",\n",
    "    \"miedo\", \"esperanza\", \"tristeza\", \"alegría\", \"frustración\", \"alivio\", \"ansiedad\", \"gratitud\",\n",
    "    \"cruce\", \"frontera\", \"travesía\", \"ruta\", \"caravana\", \"coyotes\", \"rutas peligrosas\",\n",
    "    \"violencia\", \"detención\", \"extorsión\", \"discriminación\", \"inseguridad\", \"peligro\",\n",
    "    \"familia\", \"hijos\", \"separación\", \"comunidad\", \"apoyo\", \"solidaridad\",\n",
    "    \"albergue\", \"comida\", \"salud\", \"educación\", \"trabajo\", \"ayuda\", \"recursos\",\n",
    "    \"México\", \"Estados Unidos\", \"Guatemala\", \"Tijuana\", \"Tapachula\", \"frontera norte\", \"frontera sur\",\n",
    "    \"buscando una vida mejor\", \"huyendo de la violencia\", \"cruzar la frontera\", \"en busca de asilo\"\n",
    "]"
   ]
  },
  {
   "cell_type": "code",
   "execution_count": 6,
   "metadata": {},
   "outputs": [
    {
     "name": "stdout",
     "output_type": "stream",
     "text": [
      "Extracted tweets for keyword: Tijuana\n",
      "Extracted tweets for keyword: violencia\n",
      "Extracted tweets for keyword: detención\n",
      "Extracted tweets for keyword: caravana\n",
      "Extracted tweets for keyword: inmigrante\n",
      "Extracted tweets for keyword: frontera norte\n",
      "Extracted tweets for keyword: ruta\n",
      "Extracted tweets for keyword: ansiedad\n",
      "Extracted tweets for keyword: alegría\n",
      "Extracted tweets for keyword: Guatemala\n",
      "Extracted tweets for keyword: buscando una vida mejor\n",
      "Extracted tweets for keyword: peligro\n",
      "Extracted tweets for keyword: cruzar la frontera\n",
      "Extracted tweets for keyword: albergue\n",
      "Extracted tweets for keyword: deportación\n",
      "   keyword                created_at              user_id  \\\n",
      "0  Tijuana 2024-07-10 00:01:08+00:00           2941834306   \n",
      "1  Tijuana 2024-07-10 00:00:01+00:00            219752184   \n",
      "2  Tijuana 2024-07-10 00:00:01+00:00   781936225653395460   \n",
      "3  Tijuana 2024-07-09 23:59:50+00:00  1275214794681749504   \n",
      "4  Tijuana 2024-07-09 23:57:46+00:00           2935388352   \n",
      "5  Tijuana 2024-07-09 23:56:19+00:00             19129652   \n",
      "6  Tijuana 2024-07-09 23:54:14+00:00   898980889656410112   \n",
      "7  Tijuana 2024-07-09 23:53:44+00:00  1275214794681749504   \n",
      "8  Tijuana 2024-07-09 23:51:26+00:00            219752184   \n",
      "9  Tijuana 2024-07-09 23:48:58+00:00   979084755139514368   \n",
      "\n",
      "                                                text  \n",
      "0  solo hay un wey en tijuana que podría consider...  \n",
      "1  José Fernando Sánchez González, ha recibido tr...  \n",
      "2  Contrata oficinas virtuales BCI en las siguien...  \n",
      "3  #Accidente sobre el bulevar Gral. Rodolfo Sánc...  \n",
      "4  ¡La Sindicatura Procuradora sigue avanzando! L...  \n",
      "5                        @LibertyCappy Go to Tijuana  \n",
      "6  @VioletBlum Saludos Hermosa Violet desde Tijua...  \n",
      "7  #Choque en el bulevar Lázaro Cárdenas (rampa O...  \n",
      "8  El ataque se registró en la colonia Las Huerta...  \n",
      "9  @danpinera Que está pasando dr. Primero del dj...  \n"
     ]
    }
   ],
   "source": [
    "\n",
    "# Función para buscar tweets usando el léxico\n",
    "def search_tweets(keywords):\n",
    "    tweets_data = []\n",
    "    for word in keywords:\n",
    "        query = f\"{word} lang:es -is:retweet\"\n",
    "        try:\n",
    "            for tweet in tweepy.Paginator(client.search_recent_tweets, query=query, tweet_fields=['created_at', 'text', 'author_id'], max_results=10).flatten(limit=10):\n",
    "                tweets_data.append({\n",
    "                    'keyword': word,\n",
    "                    'created_at': tweet.created_at,\n",
    "                    'user_id': tweet.author_id,\n",
    "                    'text': tweet.text\n",
    "                })\n",
    "            print(f\"Extracted tweets for keyword: {word}\")\n",
    "        except tweepy.TweepyException as e:\n",
    "            print(f\"Error: {e}\")\n",
    "    return tweets_data\n",
    "\n",
    "# Bucle para ejecutar la búsqueda de tweets cada 20 minutos\n",
    "while True:\n",
    "    # Seleccionar 15 palabras clave aleatorias del léxico\n",
    "    selected_keywords = random.sample(lexicon_optimizado, 15)\n",
    "    \n",
    "    # Buscar tweets\n",
    "    tweets_data = search_tweets(selected_keywords)\n",
    "    \n",
    "    # Convertir los datos a un DataFrame de pandas\n",
    "    df_tweets = pd.DataFrame(tweets_data)\n",
    "    \n",
    "    # Guardar los tweets en un archivo CSV\n",
    "    df_tweets.to_csv('tweets_migracion.csv', mode='a', header=not pd.io.common.file_exists('tweets_migracion.csv'), index=False, encoding='utf-8-sig')\n",
    "    \n",
    "    # Mostrar algunos ejemplos de tweets encontrados\n",
    "    print(df_tweets.head(10))\n",
    "    \n",
    "    # Esperar 20 minutos antes de la siguiente ejecución\n",
    "    time.sleep(1200)"
   ]
  },
  {
   "cell_type": "code",
   "execution_count": null,
   "metadata": {},
   "outputs": [],
   "source": []
  }
 ],
 "metadata": {
  "kernelspec": {
   "display_name": "Python 3",
   "language": "python",
   "name": "python3"
  },
  "language_info": {
   "codemirror_mode": {
    "name": "ipython",
    "version": 3
   },
   "file_extension": ".py",
   "mimetype": "text/x-python",
   "name": "python",
   "nbconvert_exporter": "python",
   "pygments_lexer": "ipython3",
   "version": "3.12.4"
  }
 },
 "nbformat": 4,
 "nbformat_minor": 2
}
