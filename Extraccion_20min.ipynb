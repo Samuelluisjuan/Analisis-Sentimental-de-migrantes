{
 "cells": [
  {
   "cell_type": "code",
   "execution_count": 1,
   "metadata": {},
   "outputs": [],
   "source": [
    "import pandas as pd\n",
    "import tweepy\n",
    "import random\n",
    "import time\n"
   ]
  },
  {
   "cell_type": "code",
   "execution_count": 2,
   "metadata": {},
   "outputs": [],
   "source": [
    "# Configuración de la API de Twitter (asegúrate de tener tus propias claves)\n",
    "api_key = \"t1TmTGZfCfebvaseP7Wz4yUP3\"\n",
    "api_secret_key = \"KNZ6KfPRvGzQsEQ5JF4JRF91orVCx8rasCbTBlQjhPYDBIaxBl\"\n",
    "bearer_token = \"AAAAAAAAAAAAAAAAAAAAAHX5ugEAAAAAO%2B6Tbx1WdlxdeOjz3rPiE%2BuZTaQ%3DibH5C0VfuLxMs8mGfULfzVR6SsRZH0zHeVEunNnHkGYnE9F1H3\"\n",
    "\n",
    "# Autenticación con la API de Twitter\n",
    "client = tweepy.Client(bearer_token=bearer_token, wait_on_rate_limit=True)"
   ]
  },
  {
   "cell_type": "code",
   "execution_count": 3,
   "metadata": {},
   "outputs": [],
   "source": [
    "lexicon_optimizado = [\n",
    "    \"solicitud de asilo\", \"centro de refugio\", \"migrante\", \"expulsión\", \"permiso de residencia\",\n",
    "    \"temor\", \"optimismo\", \"melancolía\", \"felicidad\", \"desesperación\", \"tranquilidad\", \"estrés\",\n",
    "    \"agresión\", \"arresto\", \"chantaje\", \"racismo\", \"peligrosidad\", \"riesgo\",\n",
    "    \"parientes\", \"división\", \"grupo\", \"ayuda\", \"refugio\", \"alimento\", \"bienestar\", \"empleo\",\n",
    "    \"territorio mexicano\", \"ciudad de Tijuana\", \"ciudad de Tapachula\", \"límite norte\", \"límite sur\",\n",
    "    \"en busca de una mejor vida\", \"escapando de la violencia\", \"atravesar la frontera\", \"buscando refugio\"\n",
    "]"
   ]
  },
  {
   "cell_type": "code",
   "execution_count": 4,
   "metadata": {},
   "outputs": [
    {
     "name": "stdout",
     "output_type": "stream",
     "text": [
      "Extracted tweets for keyword: chantaje\n",
      "Extracted tweets for keyword: escapando de la violencia\n",
      "Extracted tweets for keyword: grupo\n",
      "Extracted tweets for keyword: alimento\n",
      "Extracted tweets for keyword: en busca de una mejor vida\n",
      "Extracted tweets for keyword: arresto\n",
      "Extracted tweets for keyword: expulsión\n",
      "Extracted tweets for keyword: racismo\n",
      "Extracted tweets for keyword: refugio\n",
      "Extracted tweets for keyword: felicidad\n",
      "Extracted tweets for keyword: límite sur\n",
      "Extracted tweets for keyword: buscando refugio\n",
      "Extracted tweets for keyword: centro de refugio\n",
      "Extracted tweets for keyword: riesgo\n",
      "Extracted tweets for keyword: división\n",
      "    keyword                created_at              user_id  \\\n",
      "0  chantaje 2024-07-10 23:08:20+00:00           2252774243   \n",
      "1  chantaje 2024-07-10 23:03:54+00:00  1491655821465243648   \n",
      "2  chantaje 2024-07-10 23:03:15+00:00  1255220493008932864   \n",
      "3  chantaje 2024-07-10 23:02:43+00:00           4259667088   \n",
      "4  chantaje 2024-07-10 23:02:19+00:00   914918174554050560   \n",
      "5  chantaje 2024-07-10 22:59:48+00:00            842234047   \n",
      "6  chantaje 2024-07-10 22:48:28+00:00            104676975   \n",
      "7  chantaje 2024-07-10 22:46:09+00:00  1064118333975535617   \n",
      "8  chantaje 2024-07-10 22:45:59+00:00  1263001458221481985   \n",
      "9  chantaje 2024-07-10 22:43:53+00:00             94419492   \n",
      "\n",
      "                                                text  \n",
      "0  @JhonSnowDae @tresmasciento No han hecho un ge...  \n",
      "1          Suena a chantaje. https://t.co/xvsQxktdEr  \n",
      "2  @Igarrigavaz Lo vengo diciendo por activa y po...  \n",
      "3  Ah dicen la embajada se encargó del chantaje c...  \n",
      "4  @PhilAMellows ¿Con qué cara los diputados de V...  \n",
      "5  @WaykaPeru Se aprobó la ley sobre los delitos ...  \n",
      "6  @PedroKonductaz @NicolasMaduro No para que si ...  \n",
      "7  No es chantaje. \\nEl más dañino chantaje al qu...  \n",
      "8  @eliasbendodo @ppopular @NunezFeijoo @PPMalaga...  \n",
      "9  @willequintero Jajaja he escuchado audios que ...  \n"
     ]
    }
   ],
   "source": [
    "\n",
    "# Función para buscar tweets usando el léxico\n",
    "def search_tweets(keywords):\n",
    "    tweets_data = []\n",
    "    for word in keywords:\n",
    "        query = f\"{word} lang:es -is:retweet\"\n",
    "        try:\n",
    "            for tweet in tweepy.Paginator(client.search_recent_tweets, query=query, tweet_fields=['created_at', 'text', 'author_id'], max_results=10).flatten(limit=10):\n",
    "                tweets_data.append({\n",
    "                    'keyword': word,\n",
    "                    'created_at': tweet.created_at,\n",
    "                    'user_id': tweet.author_id,\n",
    "                    'text': tweet.text\n",
    "                })\n",
    "            print(f\"Extracted tweets for keyword: {word}\")\n",
    "        except tweepy.TweepyException as e:\n",
    "            print(f\"Error: {e}\")\n",
    "    return tweets_data\n",
    "\n",
    "# Bucle para ejecutar la búsqueda de tweets cada 20 minutos\n",
    "while True:\n",
    "    # Seleccionar 15 palabras clave aleatorias del léxico\n",
    "    selected_keywords = random.sample(lexicon_optimizado, 15)\n",
    "    \n",
    "    # Buscar tweets\n",
    "    tweets_data = search_tweets(selected_keywords)\n",
    "    \n",
    "    # Convertir los datos a un DataFrame de pandas\n",
    "    df_tweets = pd.DataFrame(tweets_data)\n",
    "    \n",
    "    # Guardar los tweets en un archivo CSV\n",
    "    df_tweets.to_csv('tweets_relevantes', mode='a', header=not pd.io.common.file_exists('tweets_relevantes.csv'), index=False, encoding='utf-8-sig')\n",
    "    \n",
    "    # Mostrar algunos ejemplos de tweets encontrados\n",
    "    print(df_tweets.head(10))\n",
    "    \n",
    "    # Esperar 20 minutos antes de la siguiente ejecución\n",
    "    time.sleep(1200)"
   ]
  },
  {
   "cell_type": "code",
   "execution_count": null,
   "metadata": {},
   "outputs": [],
   "source": [
    "display(tweets_data)"
   ]
  },
  {
   "cell_type": "code",
   "execution_count": null,
   "metadata": {},
   "outputs": [],
   "source": []
  }
 ],
 "metadata": {
  "kernelspec": {
   "display_name": "Python 3",
   "language": "python",
   "name": "python3"
  },
  "language_info": {
   "codemirror_mode": {
    "name": "ipython",
    "version": 3
   },
   "file_extension": ".py",
   "mimetype": "text/x-python",
   "name": "python",
   "nbconvert_exporter": "python",
   "pygments_lexer": "ipython3",
   "version": "3.12.4"
  }
 },
 "nbformat": 4,
 "nbformat_minor": 2
}
