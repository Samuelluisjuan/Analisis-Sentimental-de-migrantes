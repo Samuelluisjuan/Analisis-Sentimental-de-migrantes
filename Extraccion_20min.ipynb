{
 "cells": [
  {
   "cell_type": "code",
   "execution_count": 2,
   "metadata": {},
   "outputs": [],
   "source": [
    "import pandas as pd\n",
    "import tweepy\n",
    "import random\n",
    "import time"
   ]
  },
  {
   "cell_type": "code",
   "execution_count": 3,
   "metadata": {},
   "outputs": [],
   "source": [
    "# Configuración de la API de Twitter (asegúrate de tener tus propias claves)\n",
    "api_key = \"t1TmTGZfCfebvaseP7Wz4yUP3\"\n",
    "api_secret_key = \"KNZ6KfPRvGzQsEQ5JF4JRF91orVCx8rasCbTBlQjhPYDBIaxBl\"\n",
    "bearer_token = \"AAAAAAAAAAAAAAAAAAAAAHX5ugEAAAAAO%2B6Tbx1WdlxdeOjz3rPiE%2BuZTaQ%3DibH5C0VfuLxMs8mGfULfzVR6SsRZH0zHeVEunNnHkGYnE9F1H3\"\n",
    "\n",
    "# Autenticación con la API de Twitter\n",
    "client = tweepy.Client(bearer_token=bearer_token, wait_on_rate_limit=True)"
   ]
  },
  {
   "cell_type": "code",
   "execution_count": 4,
   "metadata": {},
   "outputs": [],
   "source": [
    "# Léxico de palabras clave refinado y ampliado\n",
    "lexicon_optimizado = [\n",
    "    \"asilo\", \"refugio\", \"inmigrante\", \"deportación\", \"residencia\", \"permiso\",\n",
    "    \"miedo\", \"esperanza\", \"tristeza\", \"alegría\", \"frustración\", \"alivio\", \"ansiedad\", \"gratitud\",\n",
    "    \"cruce\", \"frontera\", \"travesía\", \"ruta\", \"caravana\", \"coyotes\", \"rutas peligrosas\",\n",
    "    \"violencia\", \"detención\", \"extorsión\", \"discriminación\", \"inseguridad\", \"peligro\",\n",
    "    \"familia\", \"hijos\", \"separación\", \"comunidad\", \"apoyo\", \"solidaridad\",\n",
    "    \"albergue\", \"comida\", \"salud\", \"educación\", \"trabajo\", \"ayuda\", \"recursos\",\n",
    "    \"México\", \"Estados Unidos\", \"Guatemala\", \"Tijuana\", \"Tapachula\", \"frontera norte\", \"frontera sur\",\n",
    "    \"buscando una vida mejor\", \"huyendo de la violencia\", \"cruzar la frontera\", \"en busca de asilo\"\n",
    "]"
   ]
  },
  {
   "cell_type": "code",
   "execution_count": 7,
   "metadata": {},
   "outputs": [
    {
     "name": "stdout",
     "output_type": "stream",
     "text": [
      "Extracted tweets for keyword: tristeza\n",
      "Extracted tweets for keyword: coyotes\n",
      "Extracted tweets for keyword: esperanza\n",
      "Extracted tweets for keyword: Estados Unidos\n",
      "Extracted tweets for keyword: Tapachula\n",
      "Extracted tweets for keyword: separación\n",
      "Extracted tweets for keyword: frustración\n",
      "Extracted tweets for keyword: rutas peligrosas\n",
      "Extracted tweets for keyword: salud\n",
      "Extracted tweets for keyword: trabajo\n",
      "Extracted tweets for keyword: alegría\n",
      "Extracted tweets for keyword: México\n",
      "Extracted tweets for keyword: buscando una vida mejor\n",
      "Extracted tweets for keyword: caravana\n",
      "Extracted tweets for keyword: ruta\n",
      "    keyword                created_at              user_id  \\\n",
      "0  tristeza 2024-07-10 05:18:41+00:00   956353757075341313   \n",
      "1  tristeza 2024-07-10 05:18:17+00:00            485274367   \n",
      "2  tristeza 2024-07-10 05:18:08+00:00  1764896988611354624   \n",
      "3  tristeza 2024-07-10 05:17:43+00:00  1680733746436231168   \n",
      "4  tristeza 2024-07-10 05:17:02+00:00  1316984352786571264   \n",
      "5  tristeza 2024-07-10 05:16:42+00:00  1731378513356468224   \n",
      "6  tristeza 2024-07-10 05:16:08+00:00  1608939476843397120   \n",
      "7  tristeza 2024-07-10 05:16:06+00:00  1510505042964537344   \n",
      "8  tristeza 2024-07-10 05:15:47+00:00            392927187   \n",
      "9  tristeza 2024-07-10 05:14:39+00:00           1912899596   \n",
      "\n",
      "                                                text  \n",
      "0  que tristeza que manejo, no sale una bien hermano  \n",
      "1  Lo que genera la Selección. Gracias a las polí...  \n",
      "2  Voy a llorar voy a vomitar de la tristeza y em...  \n",
      "3  @ryo_hermoso Cierto muy lamentablemente pero C...  \n",
      "4  me dio tristeza que al final les diera la razó...  \n",
      "5  @ResistenciaCMx No me siento engañada, sino qu...  \n",
      "6  Yo lo único que rezo es que encuentren con vid...  \n",
      "7                     Siento una tristeza muy grande  \n",
      "8  Mucho sentimiento yo no soy así ya basta desde...  \n",
      "9  De la nada me di cuenta que me quedan dos mese...  \n"
     ]
    }
   ],
   "source": [
    "\n",
    "# Función para buscar tweets usando el léxico\n",
    "def search_tweets(keywords):\n",
    "    tweets_data = []\n",
    "    for word in keywords:\n",
    "        query = f\"{word} lang:es -is:retweet\"\n",
    "        try:\n",
    "            for tweet in tweepy.Paginator(client.search_recent_tweets, query=query, tweet_fields=['created_at', 'text', 'author_id'], max_results=10).flatten(limit=10):\n",
    "                tweets_data.append({\n",
    "                    'keyword': word,\n",
    "                    'created_at': tweet.created_at,\n",
    "                    'user_id': tweet.author_id,\n",
    "                    'text': tweet.text\n",
    "                })\n",
    "            print(f\"Extracted tweets for keyword: {word}\")\n",
    "        except tweepy.TweepyException as e:\n",
    "            print(f\"Error: {e}\")\n",
    "    return tweets_data\n",
    "\n",
    "# Bucle para ejecutar la búsqueda de tweets cada 20 minutos\n",
    "while True:\n",
    "    # Seleccionar 15 palabras clave aleatorias del léxico\n",
    "    selected_keywords = random.sample(lexicon_optimizado, 15)\n",
    "    \n",
    "    # Buscar tweets\n",
    "    tweets_data = search_tweets(selected_keywords)\n",
    "    \n",
    "    # Convertir los datos a un DataFrame de pandas\n",
    "    df_tweets = pd.DataFrame(tweets_data)\n",
    "    \n",
    "    # Guardar los tweets en un archivo CSV\n",
    "    df_tweets.to_csv('tweets_migracion.csv', mode='a', header=not pd.io.common.file_exists('tweets_migracion.csv'), index=False, encoding='utf-8-sig')\n",
    "    \n",
    "    # Mostrar algunos ejemplos de tweets encontrados\n",
    "    print(df_tweets.head(10))\n",
    "    \n",
    "    # Esperar 20 minutos antes de la siguiente ejecución\n",
    "    time.sleep(1200)"
   ]
  },
  {
   "cell_type": "code",
   "execution_count": null,
   "metadata": {},
   "outputs": [],
   "source": []
  }
 ],
 "metadata": {
  "kernelspec": {
   "display_name": "Python 3",
   "language": "python",
   "name": "python3"
  },
  "language_info": {
   "codemirror_mode": {
    "name": "ipython",
    "version": 3
   },
   "file_extension": ".py",
   "mimetype": "text/x-python",
   "name": "python",
   "nbconvert_exporter": "python",
   "pygments_lexer": "ipython3",
   "version": "3.12.4"
  }
 },
 "nbformat": 4,
 "nbformat_minor": 2
}
