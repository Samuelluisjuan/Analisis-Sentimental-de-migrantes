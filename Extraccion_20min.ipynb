{
 "cells": [
  {
   "cell_type": "code",
   "execution_count": 1,
   "metadata": {},
   "outputs": [],
   "source": [
    "import pandas as pd\n",
    "import tweepy\n",
    "import random\n",
    "import time"
   ]
  },
  {
   "cell_type": "code",
   "execution_count": 2,
   "metadata": {},
   "outputs": [],
   "source": [
    "# Configuración de la API de Twitter (asegúrate de tener tus propias claves)\n",
    "api_key = \"t1TmTGZfCfebvaseP7Wz4yUP3\"\n",
    "api_secret_key = \"KNZ6KfPRvGzQsEQ5JF4JRF91orVCx8rasCbTBlQjhPYDBIaxBl\"\n",
    "bearer_token = \"AAAAAAAAAAAAAAAAAAAAAHX5ugEAAAAAO%2B6Tbx1WdlxdeOjz3rPiE%2BuZTaQ%3DibH5C0VfuLxMs8mGfULfzVR6SsRZH0zHeVEunNnHkGYnE9F1H3\"\n",
    "\n",
    "# Autenticación con la API de Twitter\n",
    "client = tweepy.Client(bearer_token=bearer_token, wait_on_rate_limit=True)"
   ]
  },
  {
   "cell_type": "code",
   "execution_count": 3,
   "metadata": {},
   "outputs": [],
   "source": [
    "lexicon_optimizado = [\n",
    "    \"solicitud de asilo\", \"centro de refugio\", \"migrante\", \"expulsión\", \"permiso de residencia\",\n",
    "    \"temor\", \"optimismo\", \"melancolía\", \"felicidad\", \"desesperación\", \"tranquilidad\", \"estrés\",\n",
    "    \"agresión\", \"arresto\", \"chantaje\", \"racismo\", \"peligrosidad\", \"riesgo\",\n",
    "    \"parientes\", \"división\", \"grupo\", \"ayuda\", \"refugio\", \"alimento\", \"bienestar\", \"empleo\",\n",
    "    \"territorio mexicano\", \"ciudad de Tijuana\", \"ciudad de Tapachula\", \"límite norte\", \"límite sur\",\n",
    "    \"en busca de una mejor vida\", \"escapando de la violencia\", \"atravesar la frontera\", \"buscando refugio\"\n",
    "]"
   ]
  },
  {
   "cell_type": "code",
   "execution_count": 5,
   "metadata": {},
   "outputs": [
    {
     "name": "stdout",
     "output_type": "stream",
     "text": [
      "Extracted tweets for keyword: tranquilidad\n",
      "Extracted tweets for keyword: refugio\n",
      "Extracted tweets for keyword: en busca de una mejor vida\n",
      "Extracted tweets for keyword: permiso de residencia\n",
      "Extracted tweets for keyword: felicidad\n",
      "Extracted tweets for keyword: atravesar la frontera\n",
      "Extracted tweets for keyword: optimismo\n",
      "Extracted tweets for keyword: límite sur\n",
      "Extracted tweets for keyword: agresión\n",
      "Extracted tweets for keyword: estrés\n",
      "Extracted tweets for keyword: migrante\n",
      "Extracted tweets for keyword: chantaje\n",
      "Extracted tweets for keyword: escapando de la violencia\n",
      "Extracted tweets for keyword: división\n",
      "Extracted tweets for keyword: territorio mexicano\n",
      "        keyword                created_at              user_id  \\\n",
      "0  tranquilidad 2024-07-10 23:42:40+00:00           1360627285   \n",
      "1  tranquilidad 2024-07-10 23:42:34+00:00            192192991   \n",
      "2  tranquilidad 2024-07-10 23:42:23+00:00  1483491237885886465   \n",
      "3  tranquilidad 2024-07-10 23:41:15+00:00  1783725628040101889   \n",
      "4  tranquilidad 2024-07-10 23:40:46+00:00  1495197901659807751   \n",
      "5  tranquilidad 2024-07-10 23:40:44+00:00   802242367004745728   \n",
      "6  tranquilidad 2024-07-10 23:40:42+00:00  1525930644940808192   \n",
      "7  tranquilidad 2024-07-10 23:38:49+00:00   894629136957833217   \n",
      "8  tranquilidad 2024-07-10 23:38:29+00:00  1524837243113852945   \n",
      "9  tranquilidad 2024-07-10 23:37:40+00:00            306420753   \n",
      "\n",
      "                                                text  \n",
      "0  Últimamente m tomo la vida con otra tranquilid...  \n",
      "1  @lanuevaespana Entiendo que esto se hace por l...  \n",
      "2  @GarcellitoXx @albirojismo @3lball3 @goldepipi...  \n",
      "3  Días atrás, se inició una gran tarea, recupera...  \n",
      "4  La tranquilidad que me daría mudarme yo no les...  \n",
      "5  📺⚽️ La @PoliciaChoco brinda acompañamiento a l...  \n",
      "6  Mí yo en modo avión es lo que más tranquilidad...  \n",
      "7  Que el silencio de la noche te inspire paz y t...  \n",
      "8  @gl0_bitobito Ver sk8 devuelve toda la tranqui...  \n",
      "9  No me importa cortar vínculos afectivos con na...  \n"
     ]
    }
   ],
   "source": [
    "\n",
    "# Función para buscar tweets usando el léxico\n",
    "def search_tweets(keywords):\n",
    "    tweets_data = []\n",
    "    for word in keywords:\n",
    "        query = f\"{word} lang:es -is:retweet\"\n",
    "        try:\n",
    "            for tweet in tweepy.Paginator(client.search_recent_tweets, query=query, tweet_fields=['created_at', 'text', 'author_id'], max_results=10).flatten(limit=10):\n",
    "                tweets_data.append({\n",
    "                    'keyword': word,\n",
    "                    'created_at': tweet.created_at,\n",
    "                    'user_id': tweet.author_id,\n",
    "                    'text': tweet.text\n",
    "                })\n",
    "            print(f\"Extracted tweets for keyword: {word}\")\n",
    "        except tweepy.TweepyException as e:\n",
    "            print(f\"Error: {e}\")\n",
    "    return tweets_data\n",
    "\n",
    "# Bucle para ejecutar la búsqueda de tweets cada 20 minutos\n",
    "while True:\n",
    "    # Seleccionar 15 palabras clave aleatorias del léxico\n",
    "    selected_keywords = random.sample(lexicon_optimizado, 15)\n",
    "    \n",
    "    # Buscar tweets\n",
    "    tweets_data = search_tweets(selected_keywords)\n",
    "    \n",
    "    # Convertir los datos a un DataFrame de pandas\n",
    "    df_tweets = pd.DataFrame(tweets_data)\n",
    "    \n",
    "    # Guardar los tweets en un archivo CSV\n",
    "    df_tweets.to_csv('tweets_relevantes.csv', mode='a', header=not pd.io.common.file_exists('tweets_relevantes.csv'), index=False, encoding='utf-8-sig')\n",
    "    \n",
    "    # Mostrar algunos ejemplos de tweets encontrados\n",
    "    print(df_tweets.head(10))\n",
    "    \n",
    "    # Esperar 20 minutos antes de la siguiente ejecución\n",
    "    time.sleep(1200)"
   ]
  },
  {
   "cell_type": "code",
   "execution_count": null,
   "metadata": {},
   "outputs": [],
   "source": []
  }
 ],
 "metadata": {
  "kernelspec": {
   "display_name": "Python 3",
   "language": "python",
   "name": "python3"
  },
  "language_info": {
   "codemirror_mode": {
    "name": "ipython",
    "version": 3
   },
   "file_extension": ".py",
   "mimetype": "text/x-python",
   "name": "python",
   "nbconvert_exporter": "python",
   "pygments_lexer": "ipython3",
   "version": "3.12.4"
  }
 },
 "nbformat": 4,
 "nbformat_minor": 2
}
