{
 "cells": [
  {
   "cell_type": "code",
   "execution_count": 9,
   "metadata": {},
   "outputs": [],
   "source": [
    "import pandas as pd\n",
    "import tweepy\n",
    "import random\n",
    "import time\n"
   ]
  },
  {
   "cell_type": "code",
   "execution_count": 10,
   "metadata": {},
   "outputs": [],
   "source": [
    "# Configuración de la API de Twitter (asegúrate de tener tus propias claves)\n",
    "api_key = \"t1TmTGZfCfebvaseP7Wz4yUP3\"\n",
    "api_secret_key = \"KNZ6KfPRvGzQsEQ5JF4JRF91orVCx8rasCbTBlQjhPYDBIaxBl\"\n",
    "bearer_token = \"AAAAAAAAAAAAAAAAAAAAAHX5ugEAAAAAO%2B6Tbx1WdlxdeOjz3rPiE%2BuZTaQ%3DibH5C0VfuLxMs8mGfULfzVR6SsRZH0zHeVEunNnHkGYnE9F1H3\"\n",
    "\n",
    "# Autenticación con la API de Twitter\n",
    "client = tweepy.Client(bearer_token=bearer_token, wait_on_rate_limit=True)"
   ]
  },
  {
   "cell_type": "code",
   "execution_count": 11,
   "metadata": {},
   "outputs": [],
   "source": [
    "lexicon_optimizado = [\n",
    "    \"solicitud de asilo\", \"centro de refugio\", \"migrante\", \"expulsión\", \"permiso de residencia\",\n",
    "    \"temor\", \"optimismo\", \"melancolía\", \"felicidad\", \"desesperación\", \"tranquilidad\", \"estrés\",\n",
    "    \"agresión\", \"arresto\", \"chantaje\", \"racismo\", \"peligrosidad\", \"riesgo\",\n",
    "    \"parientes\", \"división\", \"grupo\", \"ayuda\", \"refugio\", \"alimento\", \"bienestar\", \"empleo\",\n",
    "    \"territorio mexicano\", \"ciudad de Tijuana\", \"ciudad de Tapachula\", \"límite norte\", \"límite sur\",\n",
    "    \"en busca de una mejor vida\", \"escapando de la violencia\", \"atravesar la frontera\", \"buscando refugio\"\n",
    "]"
   ]
  },
  {
   "cell_type": "code",
   "execution_count": 12,
   "metadata": {},
   "outputs": [
    {
     "name": "stdout",
     "output_type": "stream",
     "text": [
      "Extracted tweets for keyword: ayuda\n",
      "Extracted tweets for keyword: división\n",
      "Extracted tweets for keyword: arresto\n",
      "Extracted tweets for keyword: límite norte\n",
      "Extracted tweets for keyword: temor\n",
      "Extracted tweets for keyword: tranquilidad\n",
      "Extracted tweets for keyword: escapando de la violencia\n",
      "Extracted tweets for keyword: ciudad de Tijuana\n",
      "Extracted tweets for keyword: alimento\n",
      "Extracted tweets for keyword: melancolía\n",
      "Extracted tweets for keyword: permiso de residencia\n",
      "Extracted tweets for keyword: centro de refugio\n",
      "Extracted tweets for keyword: expulsión\n",
      "Extracted tweets for keyword: agresión\n",
      "Extracted tweets for keyword: desesperación\n",
      "  keyword                created_at              user_id  \\\n",
      "0   ayuda 2024-07-10 21:30:01+00:00            112694236   \n",
      "1   ayuda 2024-07-10 21:30:00+00:00             51326671   \n",
      "2   ayuda 2024-07-10 21:30:00+00:00  1357157394044837888   \n",
      "3   ayuda 2024-07-10 21:30:00+00:00            216057674   \n",
      "4   ayuda 2024-07-10 21:30:00+00:00           3039742387   \n",
      "5   ayuda 2024-07-10 21:29:59+00:00  1751424124642066432   \n",
      "6   ayuda 2024-07-10 21:29:58+00:00           1022251412   \n",
      "7   ayuda 2024-07-10 21:29:58+00:00  1676287920771039232   \n",
      "8   ayuda 2024-07-10 21:29:53+00:00  1311100584519282689   \n",
      "9   ayuda 2024-07-10 21:29:53+00:00  1493611302115328011   \n",
      "\n",
      "                                                text  \n",
      "0  \"Oro azul\", el superalimento que te ayuda a ba...  \n",
      "1  Hipotecario Pro del BancoEstado: Cómo simular ...  \n",
      "2  Daniel Ortega, de @Racismo_MX, nos habló sobre...  \n",
      "3  #Nacionales\\nEntregan 1.275 toneladas de ayuda...  \n",
      "4  Martin Brundle asegura que Checo Pérez ya habr...  \n",
      "5  @UNODCROCOL @OEA_Cyber @geertwilderspvv @HenMa...  \n",
      "6  @nicolaspetroB Es decir dilatando este pleito ...  \n",
      "7  es bienvenida a hacerlo , le agradecería la ay...  \n",
      "8  @Sebas_Kreimer @Al3xFlores_ Esos hombres de lo...  \n",
      "9       @aventiocats no entiendo lo último ayuda que  \n"
     ]
    }
   ],
   "source": [
    "\n",
    "# Función para buscar tweets usando el léxico\n",
    "def search_tweets(keywords):\n",
    "    tweets_data = []\n",
    "    for word in keywords:\n",
    "        query = f\"{word} lang:es -is:retweet\"\n",
    "        try:\n",
    "            for tweet in tweepy.Paginator(client.search_recent_tweets, query=query, tweet_fields=['created_at', 'text', 'author_id'], max_results=10).flatten(limit=10):\n",
    "                tweets_data.append({\n",
    "                    'keyword': word,\n",
    "                    'created_at': tweet.created_at,\n",
    "                    'user_id': tweet.author_id,\n",
    "                    'text': tweet.text\n",
    "                })\n",
    "            print(f\"Extracted tweets for keyword: {word}\")\n",
    "        except tweepy.TweepyException as e:\n",
    "            print(f\"Error: {e}\")\n",
    "    return tweets_data\n",
    "\n",
    "# Bucle para ejecutar la búsqueda de tweets cada 20 minutos\n",
    "while True:\n",
    "    # Seleccionar 15 palabras clave aleatorias del léxico\n",
    "    selected_keywords = random.sample(lexicon_optimizado, 15)\n",
    "    \n",
    "    # Buscar tweets\n",
    "    tweets_data = search_tweets(selected_keywords)\n",
    "    \n",
    "    # Convertir los datos a un DataFrame de pandas\n",
    "    df_tweets = pd.DataFrame(tweets_data)\n",
    "    \n",
    "    # Guardar los tweets en un archivo CSV\n",
    "    df_tweets.to_csv('tweets_relevantes.csv', mode='a', header=not pd.io.common.file_exists('ttweets_relevantes.csv'), index=False, encoding='utf-8-sig')\n",
    "    \n",
    "    # Mostrar algunos ejemplos de tweets encontrados\n",
    "    print(df_tweets.head(10))\n",
    "    \n",
    "    # Esperar 20 minutos antes de la siguiente ejecución\n",
    "    time.sleep(1200)"
   ]
  },
  {
   "cell_type": "code",
   "execution_count": null,
   "metadata": {},
   "outputs": [],
   "source": [
    "display(tweets_data)"
   ]
  }
 ],
 "metadata": {
  "kernelspec": {
   "display_name": "Python 3",
   "language": "python",
   "name": "python3"
  },
  "language_info": {
   "codemirror_mode": {
    "name": "ipython",
    "version": 3
   },
   "file_extension": ".py",
   "mimetype": "text/x-python",
   "name": "python",
   "nbconvert_exporter": "python",
   "pygments_lexer": "ipython3",
   "version": "3.12.4"
  }
 },
 "nbformat": 4,
 "nbformat_minor": 2
}
