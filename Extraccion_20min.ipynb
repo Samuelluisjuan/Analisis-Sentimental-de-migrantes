{
 "cells": [
  {
   "cell_type": "code",
   "execution_count": 13,
   "metadata": {},
   "outputs": [],
   "source": [
    "import pandas as pd\n",
    "import tweepy\n",
    "import random\n",
    "import time\n"
   ]
  },
  {
   "cell_type": "code",
   "execution_count": 14,
   "metadata": {},
   "outputs": [],
   "source": [
    "# Configuración de la API de Twitter (asegúrate de tener tus propias claves)\n",
    "api_key = \"t1TmTGZfCfebvaseP7Wz4yUP3\"\n",
    "api_secret_key = \"KNZ6KfPRvGzQsEQ5JF4JRF91orVCx8rasCbTBlQjhPYDBIaxBl\"\n",
    "bearer_token = \"AAAAAAAAAAAAAAAAAAAAAHX5ugEAAAAAO%2B6Tbx1WdlxdeOjz3rPiE%2BuZTaQ%3DibH5C0VfuLxMs8mGfULfzVR6SsRZH0zHeVEunNnHkGYnE9F1H3\"\n",
    "\n",
    "# Autenticación con la API de Twitter\n",
    "client = tweepy.Client(bearer_token=bearer_token, wait_on_rate_limit=True)"
   ]
  },
  {
   "cell_type": "code",
   "execution_count": 15,
   "metadata": {},
   "outputs": [],
   "source": [
    "lexicon_optimizado = [\n",
    "    \"solicitud de asilo\", \"centro de refugio\", \"migrante\", \"expulsión\", \"permiso de residencia\",\n",
    "    \"temor\", \"optimismo\", \"melancolía\", \"felicidad\", \"desesperación\", \"tranquilidad\", \"estrés\",\n",
    "    \"agresión\", \"arresto\", \"chantaje\", \"racismo\", \"peligrosidad\", \"riesgo\",\n",
    "    \"parientes\", \"división\", \"grupo\", \"ayuda\", \"refugio\", \"alimento\", \"bienestar\", \"empleo\",\n",
    "    \"territorio mexicano\", \"ciudad de Tijuana\", \"ciudad de Tapachula\", \"límite norte\", \"límite sur\",\n",
    "    \"en busca de una mejor vida\", \"escapando de la violencia\", \"atravesar la frontera\", \"buscando refugio\"\n",
    "]"
   ]
  },
  {
   "cell_type": "code",
   "execution_count": 16,
   "metadata": {},
   "outputs": [
    {
     "name": "stdout",
     "output_type": "stream",
     "text": [
      "Extracted tweets for keyword: alimento\n",
      "Extracted tweets for keyword: desesperación\n",
      "Extracted tweets for keyword: escapando de la violencia\n",
      "Extracted tweets for keyword: peligrosidad\n",
      "Extracted tweets for keyword: estrés\n",
      "Extracted tweets for keyword: migrante\n",
      "Extracted tweets for keyword: ciudad de Tapachula\n",
      "Extracted tweets for keyword: buscando refugio\n",
      "Extracted tweets for keyword: atravesar la frontera\n",
      "Extracted tweets for keyword: optimismo\n",
      "Extracted tweets for keyword: permiso de residencia\n",
      "Extracted tweets for keyword: ayuda\n",
      "Extracted tweets for keyword: empleo\n",
      "Extracted tweets for keyword: centro de refugio\n",
      "Extracted tweets for keyword: límite sur\n",
      "    keyword                created_at              user_id  \\\n",
      "0  alimento 2024-07-10 21:35:22+00:00            166275230   \n",
      "1  alimento 2024-07-10 21:33:35+00:00            166076024   \n",
      "2  alimento 2024-07-10 21:33:19+00:00           2463927391   \n",
      "3  alimento 2024-07-10 21:28:02+00:00  1461821903400841223   \n",
      "4  alimento 2024-07-10 21:25:22+00:00           3039072377   \n",
      "5  alimento 2024-07-10 21:25:10+00:00  1479836131005014016   \n",
      "6  alimento 2024-07-10 21:24:42+00:00           3142938116   \n",
      "7  alimento 2024-07-10 21:22:47+00:00  1570827177091862528   \n",
      "8  alimento 2024-07-10 21:21:29+00:00  1756744410455216128   \n",
      "9  alimento 2024-07-10 21:20:20+00:00  1779621840840720384   \n",
      "\n",
      "                                                text  \n",
      "0  #EstilodeVida Es por eso que muchos la conside...  \n",
      "1  @DanyProCycling Ha sido increíble, de las q ha...  \n",
      "2  George Clooney se suma a las dudas sobre Biden...  \n",
      "3  \"Mejor Cómete los tacos para Bajar de Peso\"\\n\\...  \n",
      "4  @NhoraCortes2014 @Patty_1s Es mi alimento no m...  \n",
      "5  @sck_0_ Yo ya no voy por gustos, es un aliment...  \n",
      "6  Como x una semana mi alimento fue solo agua. T...  \n",
      "7  @SantoroLeandro Actualizo, no solo alimentos e...  \n",
      "8  @silvanasc25 Haga sinpe para el alimento ahí a...  \n",
      "9  @OneAAVR @FurinaCats_ un alimento para gatos u...  \n"
     ]
    }
   ],
   "source": [
    "\n",
    "# Función para buscar tweets usando el léxico\n",
    "def search_tweets(keywords):\n",
    "    tweets_data = []\n",
    "    for word in keywords:\n",
    "        query = f\"{word} lang:es -is:retweet\"\n",
    "        try:\n",
    "            for tweet in tweepy.Paginator(client.search_recent_tweets, query=query, tweet_fields=['created_at', 'text', 'author_id'], max_results=10).flatten(limit=10):\n",
    "                tweets_data.append({\n",
    "                    'keyword': word,\n",
    "                    'created_at': tweet.created_at,\n",
    "                    'user_id': tweet.author_id,\n",
    "                    'text': tweet.text\n",
    "                })\n",
    "            print(f\"Extracted tweets for keyword: {word}\")\n",
    "        except tweepy.TweepyException as e:\n",
    "            print(f\"Error: {e}\")\n",
    "    return tweets_data\n",
    "\n",
    "# Bucle para ejecutar la búsqueda de tweets cada 20 minutos\n",
    "while True:\n",
    "    # Seleccionar 15 palabras clave aleatorias del léxico\n",
    "    selected_keywords = random.sample(lexicon_optimizado, 15)\n",
    "    \n",
    "    # Buscar tweets\n",
    "    tweets_data = search_tweets(selected_keywords)\n",
    "    \n",
    "    # Convertir los datos a un DataFrame de pandas\n",
    "    df_tweets = pd.DataFrame(tweets_data)\n",
    "    \n",
    "    # Guardar los tweets en un archivo CSV\n",
    "    df_tweets.to_csv('tweets_relevantes.csv', mode='a', header=not pd.io.common.file_exists('ttweets_relevantes.csv'), index=False, encoding='utf-8-sig')\n",
    "    \n",
    "    # Mostrar algunos ejemplos de tweets encontrados\n",
    "    print(df_tweets.head(10))\n",
    "    \n",
    "    # Esperar 20 minutos antes de la siguiente ejecución\n",
    "    time.sleep(1200)"
   ]
  },
  {
   "cell_type": "code",
   "execution_count": null,
   "metadata": {},
   "outputs": [],
   "source": [
    "display(tweets_data)"
   ]
  }
 ],
 "metadata": {
  "kernelspec": {
   "display_name": "Python 3",
   "language": "python",
   "name": "python3"
  },
  "language_info": {
   "codemirror_mode": {
    "name": "ipython",
    "version": 3
   },
   "file_extension": ".py",
   "mimetype": "text/x-python",
   "name": "python",
   "nbconvert_exporter": "python",
   "pygments_lexer": "ipython3",
   "version": "3.12.4"
  }
 },
 "nbformat": 4,
 "nbformat_minor": 2
}
