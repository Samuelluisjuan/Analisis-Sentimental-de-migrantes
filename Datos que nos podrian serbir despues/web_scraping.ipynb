{
 "cells": [
  {
   "cell_type": "code",
   "execution_count": 2,
   "metadata": {},
   "outputs": [],
   "source": [
    "import pandas as pd\n",
    "from textblob import TextBlob\n",
    "import nest_asyncio\n",
    "import requests\n",
    "from bs4 import BeautifulSoup\n",
    "import aiohttp\n",
    "import asyncio"
   ]
  },
  {
   "cell_type": "code",
   "execution_count": 8,
   "metadata": {},
   "outputs": [
    {
     "name": "stdout",
     "output_type": "stream",
     "text": [
      "Fetching tweets for keyword: migrantes\n",
      "Error: 403 - https://nitter.poast.org/search?f=tweets&q=migrantes&since=&until=&near=\n",
      "Empty DataFrame\n",
      "Columns: []\n",
      "Index: []\n"
     ]
    }
   ],
   "source": [
    "# Permitir la ejecución de eventos en el mismo hilo\n",
    "nest_asyncio.apply()\n",
    "\n",
    "# Lexicon de palabras\n",
    "lexicon = [\"migrantes\"]\n",
    "\n",
    "async def fetch(session, url):\n",
    "    async with session.get(url) as response:\n",
    "        if response.status != 200:\n",
    "            print(f\"Error: {response.status} - {url}\")\n",
    "        return await response.text()\n",
    "\n",
    "async def get_tweets_for_keyword(session, keyword):\n",
    "    url = f\"https://nitter.poast.org/search?f=tweets&q=migrantes&since=&until=&near=\"\n",
    "    html = await fetch(session, url)\n",
    "    soup = BeautifulSoup(html, 'html.parser')\n",
    "    tweets = []\n",
    "    for tweet in soup.find_all('div', {'class': 'timeline-item'}):\n",
    "        content_div = tweet.find('div', {'class': 'tweet-content'})\n",
    "        if content_div:\n",
    "            content = content_div.text.strip()\n",
    "        else:\n",
    "            content = \"No content found\"\n",
    "        date_span = tweet.find('span', {'class': 'tweet-date'})\n",
    "        if date_span:\n",
    "            date = date_span.text.strip()\n",
    "        else:\n",
    "            date = \"No date found\"\n",
    "        tweets.append({'keyword': keyword, 'content': content, 'date': date})\n",
    "    return tweets\n",
    "\n",
    "async def main():\n",
    "    async with aiohttp.ClientSession() as session:\n",
    "        all_tweets = []\n",
    "        for keyword in lexicon:\n",
    "            print(f\"Fetching tweets for keyword: {keyword}\")\n",
    "            tweets = await get_tweets_for_keyword(session, keyword)\n",
    "            all_tweets.extend(tweets)\n",
    "        return all_tweets\n",
    "\n",
    "# Ejecutar la recolección de tweets\n",
    "loop = asyncio.get_event_loop()\n",
    "tweets_data = loop.run_until_complete(main())\n",
    "\n",
    "# Convertir a DataFrame de pandas\n",
    "tweets_df = pd.DataFrame(tweets_data)\n",
    "\n",
    "# Guardar los resultados en un archivo CSV\n",
    "tweets_df.to_csv('tweets_recolectados_nitter.csv', index=False)\n",
    "\n",
    "# Mostrar los primeros 5 tweets para ver el resultado\n",
    "print(tweets_df.head())"
   ]
  },
  {
   "cell_type": "code",
   "execution_count": 4,
   "metadata": {},
   "outputs": [
    {
     "data": {
      "text/plain": [
       "[]"
      ]
     },
     "metadata": {},
     "output_type": "display_data"
    }
   ],
   "source": [
    "display(tweets_data)"
   ]
  },
  {
   "cell_type": "code",
   "execution_count": 5,
   "metadata": {},
   "outputs": [
    {
     "data": {
      "text/html": [
       "<div>\n",
       "<style scoped>\n",
       "    .dataframe tbody tr th:only-of-type {\n",
       "        vertical-align: middle;\n",
       "    }\n",
       "\n",
       "    .dataframe tbody tr th {\n",
       "        vertical-align: top;\n",
       "    }\n",
       "\n",
       "    .dataframe thead th {\n",
       "        text-align: right;\n",
       "    }\n",
       "</style>\n",
       "<table border=\"1\" class=\"dataframe\">\n",
       "  <thead>\n",
       "    <tr style=\"text-align: right;\">\n",
       "      <th></th>\n",
       "    </tr>\n",
       "  </thead>\n",
       "  <tbody>\n",
       "  </tbody>\n",
       "</table>\n",
       "</div>"
      ],
      "text/plain": [
       "Empty DataFrame\n",
       "Columns: []\n",
       "Index: []"
      ]
     },
     "metadata": {},
     "output_type": "display_data"
    }
   ],
   "source": [
    "display(tweets_df)"
   ]
  },
  {
   "cell_type": "code",
   "execution_count": null,
   "metadata": {},
   "outputs": [],
   "source": []
  }
 ],
 "metadata": {
  "kernelspec": {
   "display_name": "Python 3",
   "language": "python",
   "name": "python3"
  },
  "language_info": {
   "codemirror_mode": {
    "name": "ipython",
    "version": 3
   },
   "file_extension": ".py",
   "mimetype": "text/x-python",
   "name": "python",
   "nbconvert_exporter": "python",
   "pygments_lexer": "ipython3",
   "version": "3.12.4"
  }
 },
 "nbformat": 4,
 "nbformat_minor": 2
}
