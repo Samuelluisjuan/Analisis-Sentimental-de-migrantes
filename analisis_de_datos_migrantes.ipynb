{
 "cells": [
  {
   "cell_type": "code",
   "execution_count": 3,
   "metadata": {},
   "outputs": [],
   "source": [
    "import pandas as pd\n",
    "import seaborn as sns \n",
    "import matplotlib.pyplot as plt\n",
    "import math\n",
    "import numpy as np\n",
    "from scipy import stats as st\n",
    "from IPython.display import display\n"
   ]
  },
  {
   "cell_type": "code",
   "execution_count": 9,
   "metadata": {},
   "outputs": [
    {
     "data": {
      "text/html": [
       "<div>\n",
       "<style scoped>\n",
       "    .dataframe tbody tr th:only-of-type {\n",
       "        vertical-align: middle;\n",
       "    }\n",
       "\n",
       "    .dataframe tbody tr th {\n",
       "        vertical-align: top;\n",
       "    }\n",
       "\n",
       "    .dataframe thead th {\n",
       "        text-align: right;\n",
       "    }\n",
       "</style>\n",
       "<table border=\"1\" class=\"dataframe\">\n",
       "  <thead>\n",
       "    <tr style=\"text-align: right;\">\n",
       "      <th></th>\n",
       "      <th>keyword</th>\n",
       "      <th>created_at</th>\n",
       "      <th>user_id</th>\n",
       "      <th>text</th>\n",
       "    </tr>\n",
       "  </thead>\n",
       "  <tbody>\n",
       "    <tr>\n",
       "      <th>0</th>\n",
       "      <td>extorsión</td>\n",
       "      <td>2024-07-09 05:43:51+00:00</td>\n",
       "      <td>85943268</td>\n",
       "      <td>@delfinagomeza Y eso qué..! No se ha bajado la...</td>\n",
       "    </tr>\n",
       "    <tr>\n",
       "      <th>1</th>\n",
       "      <td>extorsión</td>\n",
       "      <td>2024-07-09 05:34:21+00:00</td>\n",
       "      <td>1701343598220840960</td>\n",
       "      <td>@Notisistema Ellos se reportan a los altos man...</td>\n",
       "    </tr>\n",
       "    <tr>\n",
       "      <th>2</th>\n",
       "      <td>extorsión</td>\n",
       "      <td>2024-07-09 05:33:49+00:00</td>\n",
       "      <td>1655958977354817537</td>\n",
       "      <td>El chantaje crece sin contención https://t.co/...</td>\n",
       "    </tr>\n",
       "    <tr>\n",
       "      <th>3</th>\n",
       "      <td>extorsión</td>\n",
       "      <td>2024-07-09 05:25:16+00:00</td>\n",
       "      <td>1544440834938077185</td>\n",
       "      <td>@madorni Aplaudo la extorsión.   Se ve que sur...</td>\n",
       "    </tr>\n",
       "    <tr>\n",
       "      <th>4</th>\n",
       "      <td>extorsión</td>\n",
       "      <td>2024-07-09 05:24:47+00:00</td>\n",
       "      <td>1585397205376139273</td>\n",
       "      <td>No mames seguro ese es el menor de su delitos,...</td>\n",
       "    </tr>\n",
       "    <tr>\n",
       "      <th>...</th>\n",
       "      <td>...</td>\n",
       "      <td>...</td>\n",
       "      <td>...</td>\n",
       "      <td>...</td>\n",
       "    </tr>\n",
       "    <tr>\n",
       "      <th>595</th>\n",
       "      <td>ruta</td>\n",
       "      <td>2024-07-10 05:17:03+00:00</td>\n",
       "      <td>1698727269974372352</td>\n",
       "      <td>- hanmma de encontraba caminado por la ruta ca...</td>\n",
       "    </tr>\n",
       "    <tr>\n",
       "      <th>596</th>\n",
       "      <td>ruta</td>\n",
       "      <td>2024-07-10 05:17:02+00:00</td>\n",
       "      <td>1444181526506315783</td>\n",
       "      <td>#Suchitepéquez Socavamiento de aproche sobre e...</td>\n",
       "    </tr>\n",
       "    <tr>\n",
       "      <th>597</th>\n",
       "      <td>ruta</td>\n",
       "      <td>2024-07-10 05:16:54+00:00</td>\n",
       "      <td>1672813585825685505</td>\n",
       "      <td>@Memeduza_ Otro ejemplo es el del P8, que últi...</td>\n",
       "    </tr>\n",
       "    <tr>\n",
       "      <th>598</th>\n",
       "      <td>ruta</td>\n",
       "      <td>2024-07-10 05:16:49+00:00</td>\n",
       "      <td>911987462066622465</td>\n",
       "      <td>#Suchitepéquez Socavamiento de aproche sobre e...</td>\n",
       "    </tr>\n",
       "    <tr>\n",
       "      <th>599</th>\n",
       "      <td>ruta</td>\n",
       "      <td>2024-07-10 05:16:35+00:00</td>\n",
       "      <td>1546324955297628160</td>\n",
       "      <td>@papeadas suerte Pero no en este lugar, sino e...</td>\n",
       "    </tr>\n",
       "  </tbody>\n",
       "</table>\n",
       "<p>600 rows × 4 columns</p>\n",
       "</div>"
      ],
      "text/plain": [
       "       keyword                 created_at              user_id  \\\n",
       "0    extorsión  2024-07-09 05:43:51+00:00             85943268   \n",
       "1    extorsión  2024-07-09 05:34:21+00:00  1701343598220840960   \n",
       "2    extorsión  2024-07-09 05:33:49+00:00  1655958977354817537   \n",
       "3    extorsión  2024-07-09 05:25:16+00:00  1544440834938077185   \n",
       "4    extorsión  2024-07-09 05:24:47+00:00  1585397205376139273   \n",
       "..         ...                        ...                  ...   \n",
       "595       ruta  2024-07-10 05:17:03+00:00  1698727269974372352   \n",
       "596       ruta  2024-07-10 05:17:02+00:00  1444181526506315783   \n",
       "597       ruta  2024-07-10 05:16:54+00:00  1672813585825685505   \n",
       "598       ruta  2024-07-10 05:16:49+00:00   911987462066622465   \n",
       "599       ruta  2024-07-10 05:16:35+00:00  1546324955297628160   \n",
       "\n",
       "                                                  text  \n",
       "0    @delfinagomeza Y eso qué..! No se ha bajado la...  \n",
       "1    @Notisistema Ellos se reportan a los altos man...  \n",
       "2    El chantaje crece sin contención https://t.co/...  \n",
       "3    @madorni Aplaudo la extorsión.   Se ve que sur...  \n",
       "4    No mames seguro ese es el menor de su delitos,...  \n",
       "..                                                 ...  \n",
       "595  - hanmma de encontraba caminado por la ruta ca...  \n",
       "596  #Suchitepéquez Socavamiento de aproche sobre e...  \n",
       "597  @Memeduza_ Otro ejemplo es el del P8, que últi...  \n",
       "598  #Suchitepéquez Socavamiento de aproche sobre e...  \n",
       "599  @papeadas suerte Pero no en este lugar, sino e...  \n",
       "\n",
       "[600 rows x 4 columns]"
      ]
     },
     "metadata": {},
     "output_type": "display_data"
    }
   ],
   "source": [
    "tweets_migracion = pd.read_csv('tweets_migracion.csv')\n",
    "display(tweets_migracion)"
   ]
  },
  {
   "cell_type": "code",
   "execution_count": 12,
   "metadata": {},
   "outputs": [],
   "source": [
    "only_tweets = tweets_migracion['text']\n",
    "only_tweets.to_csv('only_tweets.csv', index=False, encoding='utf-8-sig')"
   ]
  },
  {
   "cell_type": "code",
   "execution_count": 11,
   "metadata": {},
   "outputs": [
    {
     "data": {
      "text/plain": [
       "0      @delfinagomeza Y eso qué..! No se ha bajado la...\n",
       "1      @Notisistema Ellos se reportan a los altos man...\n",
       "2      El chantaje crece sin contención https://t.co/...\n",
       "3      @madorni Aplaudo la extorsión.   Se ve que sur...\n",
       "4      No mames seguro ese es el menor de su delitos,...\n",
       "                             ...                        \n",
       "595    - hanmma de encontraba caminado por la ruta ca...\n",
       "596    #Suchitepéquez Socavamiento de aproche sobre e...\n",
       "597    @Memeduza_ Otro ejemplo es el del P8, que últi...\n",
       "598    #Suchitepéquez Socavamiento de aproche sobre e...\n",
       "599    @papeadas suerte Pero no en este lugar, sino e...\n",
       "Name: text, Length: 600, dtype: object"
      ]
     },
     "metadata": {},
     "output_type": "display_data"
    }
   ],
   "source": [
    "display(only_tweets)"
   ]
  },
  {
   "cell_type": "code",
   "execution_count": null,
   "metadata": {},
   "outputs": [],
   "source": []
  },
  {
   "cell_type": "code",
   "execution_count": null,
   "metadata": {},
   "outputs": [],
   "source": []
  }
 ],
 "metadata": {
  "kernelspec": {
   "display_name": "Python 3",
   "language": "python",
   "name": "python3"
  },
  "language_info": {
   "codemirror_mode": {
    "name": "ipython",
    "version": 3
   },
   "file_extension": ".py",
   "mimetype": "text/x-python",
   "name": "python",
   "nbconvert_exporter": "python",
   "pygments_lexer": "ipython3",
   "version": "3.12.4"
  }
 },
 "nbformat": 4,
 "nbformat_minor": 2
}
