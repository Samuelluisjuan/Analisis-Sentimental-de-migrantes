{
 "cells": [
  {
   "cell_type": "code",
   "execution_count": 8,
   "metadata": {},
   "outputs": [],
   "source": [
    "import pandas as pd\n",
    "import seaborn as sns \n",
    "import matplotlib.pyplot as plt\n",
    "import math\n",
    "import numpy as np\n",
    "from scipy import stats as st\n",
    "from IPython.display import display\n"
   ]
  },
  {
   "cell_type": "code",
   "execution_count": 16,
   "metadata": {},
   "outputs": [
    {
     "data": {
      "text/html": [
       "<div>\n",
       "<style scoped>\n",
       "    .dataframe tbody tr th:only-of-type {\n",
       "        vertical-align: middle;\n",
       "    }\n",
       "\n",
       "    .dataframe tbody tr th {\n",
       "        vertical-align: top;\n",
       "    }\n",
       "\n",
       "    .dataframe thead th {\n",
       "        text-align: right;\n",
       "    }\n",
       "</style>\n",
       "<table border=\"1\" class=\"dataframe\">\n",
       "  <thead>\n",
       "    <tr style=\"text-align: right;\">\n",
       "      <th></th>\n",
       "      <th>keyword</th>\n",
       "      <th>created_at</th>\n",
       "      <th>user_id</th>\n",
       "      <th>text</th>\n",
       "    </tr>\n",
       "  </thead>\n",
       "  <tbody>\n",
       "    <tr>\n",
       "      <th>0</th>\n",
       "      <td>extorsión</td>\n",
       "      <td>2024-07-09 05:33:49+00:00</td>\n",
       "      <td>1655958977354817537</td>\n",
       "      <td>El chantaje crece sin contención https://t.co/...</td>\n",
       "    </tr>\n",
       "    <tr>\n",
       "      <th>1</th>\n",
       "      <td>extorsión</td>\n",
       "      <td>2024-07-09 05:19:14+00:00</td>\n",
       "      <td>1549747229778329601</td>\n",
       "      <td>@juncalssolano @Martin_Bazan_A Bueno, si este ...</td>\n",
       "    </tr>\n",
       "    <tr>\n",
       "      <th>2</th>\n",
       "      <td>residencia</td>\n",
       "      <td>2024-07-09 05:31:29+00:00</td>\n",
       "      <td>1311783922859155457</td>\n",
       "      <td>El bulo de OKdiario contra Pablo Iglesias ampl...</td>\n",
       "    </tr>\n",
       "    <tr>\n",
       "      <th>3</th>\n",
       "      <td>solidaridad</td>\n",
       "      <td>2024-07-09 05:43:11+00:00</td>\n",
       "      <td>63452413</td>\n",
       "      <td>Es muy jodido. Hay quienes se juegan su empleo...</td>\n",
       "    </tr>\n",
       "    <tr>\n",
       "      <th>4</th>\n",
       "      <td>solidaridad</td>\n",
       "      <td>2024-07-09 05:38:53+00:00</td>\n",
       "      <td>1288465855735529473</td>\n",
       "      <td>@oscarpepecastro @cayetanaAT Valores?\\n\\nSi es...</td>\n",
       "    </tr>\n",
       "    <tr>\n",
       "      <th>...</th>\n",
       "      <td>...</td>\n",
       "      <td>...</td>\n",
       "      <td>...</td>\n",
       "      <td>...</td>\n",
       "    </tr>\n",
       "    <tr>\n",
       "      <th>3108</th>\n",
       "      <td>Coyotes México</td>\n",
       "      <td>2024-08-07 16:38:27+00:00</td>\n",
       "      <td>1199437999748132870</td>\n",
       "      <td>@PagesBeatriz @Claudiashein ¿Les da miedo que ...</td>\n",
       "    </tr>\n",
       "    <tr>\n",
       "      <th>3109</th>\n",
       "      <td>Coyotes México</td>\n",
       "      <td>2024-08-07 06:15:46+00:00</td>\n",
       "      <td>1614441334458429443</td>\n",
       "      <td>@esnoticiaalesal Están peor que los coyotes co...</td>\n",
       "    </tr>\n",
       "    <tr>\n",
       "      <th>3110</th>\n",
       "      <td>Coyotes México</td>\n",
       "      <td>2024-08-07 01:26:49+00:00</td>\n",
       "      <td>1080322411436875776</td>\n",
       "      <td>Diario de lecturas. De coyotes, diablos, avent...</td>\n",
       "    </tr>\n",
       "    <tr>\n",
       "      <th>3111</th>\n",
       "      <td>Coyotes México</td>\n",
       "      <td>2024-08-06 23:09:28+00:00</td>\n",
       "      <td>336560037</td>\n",
       "      <td>@lahoragt Tendrá que velar por los migrantes v...</td>\n",
       "    </tr>\n",
       "    <tr>\n",
       "      <th>3112</th>\n",
       "      <td>Coyotes México</td>\n",
       "      <td>2024-08-06 22:32:19+00:00</td>\n",
       "      <td>1481723833409163265</td>\n",
       "      <td>@Jaime51271617 @HctorZeped85634 @nauterfley_es...</td>\n",
       "    </tr>\n",
       "  </tbody>\n",
       "</table>\n",
       "<p>3113 rows × 4 columns</p>\n",
       "</div>"
      ],
      "text/plain": [
       "             keyword                 created_at              user_id  \\\n",
       "0          extorsión  2024-07-09 05:33:49+00:00  1655958977354817537   \n",
       "1          extorsión  2024-07-09 05:19:14+00:00  1549747229778329601   \n",
       "2         residencia  2024-07-09 05:31:29+00:00  1311783922859155457   \n",
       "3        solidaridad  2024-07-09 05:43:11+00:00             63452413   \n",
       "4        solidaridad  2024-07-09 05:38:53+00:00  1288465855735529473   \n",
       "...              ...                        ...                  ...   \n",
       "3108  Coyotes México  2024-08-07 16:38:27+00:00  1199437999748132870   \n",
       "3109  Coyotes México  2024-08-07 06:15:46+00:00  1614441334458429443   \n",
       "3110  Coyotes México  2024-08-07 01:26:49+00:00  1080322411436875776   \n",
       "3111  Coyotes México  2024-08-06 23:09:28+00:00            336560037   \n",
       "3112  Coyotes México  2024-08-06 22:32:19+00:00  1481723833409163265   \n",
       "\n",
       "                                                   text  \n",
       "0     El chantaje crece sin contención https://t.co/...  \n",
       "1     @juncalssolano @Martin_Bazan_A Bueno, si este ...  \n",
       "2     El bulo de OKdiario contra Pablo Iglesias ampl...  \n",
       "3     Es muy jodido. Hay quienes se juegan su empleo...  \n",
       "4     @oscarpepecastro @cayetanaAT Valores?\\n\\nSi es...  \n",
       "...                                                 ...  \n",
       "3108  @PagesBeatriz @Claudiashein ¿Les da miedo que ...  \n",
       "3109  @esnoticiaalesal Están peor que los coyotes co...  \n",
       "3110  Diario de lecturas. De coyotes, diablos, avent...  \n",
       "3111  @lahoragt Tendrá que velar por los migrantes v...  \n",
       "3112  @Jaime51271617 @HctorZeped85634 @nauterfley_es...  \n",
       "\n",
       "[3113 rows x 4 columns]"
      ]
     },
     "metadata": {},
     "output_type": "display_data"
    }
   ],
   "source": [
    "tweets_relevantes = pd.read_csv('tweets_relevantes.csv')\n",
    "tweets_relevantes.drop(columns=['relevante'], inplace=True)\n",
    "display(tweets_relevantes)"
   ]
  },
  {
   "cell_type": "code",
   "execution_count": 15,
   "metadata": {},
   "outputs": [
    {
     "name": "stdout",
     "output_type": "stream",
     "text": [
      "<class 'pandas.core.frame.DataFrame'>\n",
      "RangeIndex: 2635 entries, 0 to 2634\n",
      "Data columns (total 4 columns):\n",
      " #   Column      Non-Null Count  Dtype \n",
      "---  ------      --------------  ----- \n",
      " 0   keyword     2635 non-null   object\n",
      " 1   created_at  2635 non-null   object\n",
      " 2   user_id     2635 non-null   object\n",
      " 3   text        2635 non-null   object\n",
      "dtypes: object(4)\n",
      "memory usage: 82.5+ KB\n"
     ]
    },
    {
     "data": {
      "text/plain": [
       "None"
      ]
     },
     "metadata": {},
     "output_type": "display_data"
    }
   ],
   "source": [
    "display(tweets_relevantes.info())"
   ]
  },
  {
   "cell_type": "code",
   "execution_count": null,
   "metadata": {},
   "outputs": [],
   "source": []
  },
  {
   "cell_type": "code",
   "execution_count": null,
   "metadata": {},
   "outputs": [],
   "source": []
  },
  {
   "cell_type": "code",
   "execution_count": null,
   "metadata": {},
   "outputs": [],
   "source": []
  }
 ],
 "metadata": {
  "kernelspec": {
   "display_name": "Python 3",
   "language": "python",
   "name": "python3"
  },
  "language_info": {
   "codemirror_mode": {
    "name": "ipython",
    "version": 3
   },
   "file_extension": ".py",
   "mimetype": "text/x-python",
   "name": "python",
   "nbconvert_exporter": "python",
   "pygments_lexer": "ipython3",
   "version": "3.12.4"
  }
 },
 "nbformat": 4,
 "nbformat_minor": 2
}
