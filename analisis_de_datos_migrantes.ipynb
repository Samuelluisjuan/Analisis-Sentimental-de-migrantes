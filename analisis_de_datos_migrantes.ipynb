{
 "cells": [
  {
   "cell_type": "code",
   "execution_count": 1,
   "metadata": {},
   "outputs": [],
   "source": [
    "import pandas as pd\n",
    "import seaborn as sns \n",
    "import matplotlib.pyplot as plt\n",
    "import math\n",
    "import numpy as np\n",
    "from scipy import stats as st\n",
    "from IPython.display import display\n"
   ]
  },
  {
   "cell_type": "code",
   "execution_count": 2,
   "metadata": {},
   "outputs": [
    {
     "data": {
      "text/html": [
       "<div>\n",
       "<style scoped>\n",
       "    .dataframe tbody tr th:only-of-type {\n",
       "        vertical-align: middle;\n",
       "    }\n",
       "\n",
       "    .dataframe tbody tr th {\n",
       "        vertical-align: top;\n",
       "    }\n",
       "\n",
       "    .dataframe thead th {\n",
       "        text-align: right;\n",
       "    }\n",
       "</style>\n",
       "<table border=\"1\" class=\"dataframe\">\n",
       "  <thead>\n",
       "    <tr style=\"text-align: right;\">\n",
       "      <th></th>\n",
       "      <th>keyword</th>\n",
       "      <th>created_at</th>\n",
       "      <th>user_id</th>\n",
       "      <th>text</th>\n",
       "    </tr>\n",
       "  </thead>\n",
       "  <tbody>\n",
       "    <tr>\n",
       "      <th>0</th>\n",
       "      <td>extorsión</td>\n",
       "      <td>2024-07-09 05:33:49+00:00</td>\n",
       "      <td>1655958977354817537</td>\n",
       "      <td>El chantaje crece sin contención https://t.co/...</td>\n",
       "    </tr>\n",
       "    <tr>\n",
       "      <th>1</th>\n",
       "      <td>extorsión</td>\n",
       "      <td>2024-07-09 05:19:14+00:00</td>\n",
       "      <td>1549747229778329601</td>\n",
       "      <td>@juncalssolano @Martin_Bazan_A Bueno, si este ...</td>\n",
       "    </tr>\n",
       "    <tr>\n",
       "      <th>2</th>\n",
       "      <td>residencia</td>\n",
       "      <td>2024-07-09 05:31:29+00:00</td>\n",
       "      <td>1311783922859155457</td>\n",
       "      <td>El bulo de OKdiario contra Pablo Iglesias ampl...</td>\n",
       "    </tr>\n",
       "    <tr>\n",
       "      <th>3</th>\n",
       "      <td>solidaridad</td>\n",
       "      <td>2024-07-09 05:43:11+00:00</td>\n",
       "      <td>63452413</td>\n",
       "      <td>Es muy jodido. Hay quienes se juegan su empleo...</td>\n",
       "    </tr>\n",
       "    <tr>\n",
       "      <th>4</th>\n",
       "      <td>solidaridad</td>\n",
       "      <td>2024-07-09 05:38:53+00:00</td>\n",
       "      <td>1288465855735529473</td>\n",
       "      <td>@oscarpepecastro @cayetanaAT Valores?\\n\\nSi es...</td>\n",
       "    </tr>\n",
       "    <tr>\n",
       "      <th>...</th>\n",
       "      <td>...</td>\n",
       "      <td>...</td>\n",
       "      <td>...</td>\n",
       "      <td>...</td>\n",
       "    </tr>\n",
       "    <tr>\n",
       "      <th>1503</th>\n",
       "      <td>Deportación México</td>\n",
       "      <td>2024-08-06 09:19:03+00:00</td>\n",
       "      <td>1526180644396617728</td>\n",
       "      <td>@Wuiscot Además de que deportación de ilegales...</td>\n",
       "    </tr>\n",
       "    <tr>\n",
       "      <th>1504</th>\n",
       "      <td>Deportación México</td>\n",
       "      <td>2024-08-06 00:24:39+00:00</td>\n",
       "      <td>171199755</td>\n",
       "      <td>Pero E.U. es un gran consumidor, para que atac...</td>\n",
       "    </tr>\n",
       "    <tr>\n",
       "      <th>1505</th>\n",
       "      <td>Deportación México</td>\n",
       "      <td>2024-08-05 22:24:42+00:00</td>\n",
       "      <td>3236688742</td>\n",
       "      <td>@70L3D0 @Soy_Gian21 @EsdeProfugos A mi me vale...</td>\n",
       "    </tr>\n",
       "    <tr>\n",
       "      <th>1506</th>\n",
       "      <td>Deportación México</td>\n",
       "      <td>2024-08-05 15:38:41+00:00</td>\n",
       "      <td>1585664830429712385</td>\n",
       "      <td>Casa INDI se prepara para una posible avalanch...</td>\n",
       "    </tr>\n",
       "    <tr>\n",
       "      <th>1507</th>\n",
       "      <td>Deportación México</td>\n",
       "      <td>2024-08-03 18:53:17+00:00</td>\n",
       "      <td>1071925353709477888</td>\n",
       "      <td>@Pau_ar7 @solanogod Muchos están de ilegales (...</td>\n",
       "    </tr>\n",
       "  </tbody>\n",
       "</table>\n",
       "<p>1508 rows × 4 columns</p>\n",
       "</div>"
      ],
      "text/plain": [
       "                 keyword                 created_at              user_id  \\\n",
       "0              extorsión  2024-07-09 05:33:49+00:00  1655958977354817537   \n",
       "1              extorsión  2024-07-09 05:19:14+00:00  1549747229778329601   \n",
       "2             residencia  2024-07-09 05:31:29+00:00  1311783922859155457   \n",
       "3            solidaridad  2024-07-09 05:43:11+00:00             63452413   \n",
       "4            solidaridad  2024-07-09 05:38:53+00:00  1288465855735529473   \n",
       "...                  ...                        ...                  ...   \n",
       "1503  Deportación México  2024-08-06 09:19:03+00:00  1526180644396617728   \n",
       "1504  Deportación México  2024-08-06 00:24:39+00:00            171199755   \n",
       "1505  Deportación México  2024-08-05 22:24:42+00:00           3236688742   \n",
       "1506  Deportación México  2024-08-05 15:38:41+00:00  1585664830429712385   \n",
       "1507  Deportación México  2024-08-03 18:53:17+00:00  1071925353709477888   \n",
       "\n",
       "                                                   text  \n",
       "0     El chantaje crece sin contención https://t.co/...  \n",
       "1     @juncalssolano @Martin_Bazan_A Bueno, si este ...  \n",
       "2     El bulo de OKdiario contra Pablo Iglesias ampl...  \n",
       "3     Es muy jodido. Hay quienes se juegan su empleo...  \n",
       "4     @oscarpepecastro @cayetanaAT Valores?\\n\\nSi es...  \n",
       "...                                                 ...  \n",
       "1503  @Wuiscot Además de que deportación de ilegales...  \n",
       "1504  Pero E.U. es un gran consumidor, para que atac...  \n",
       "1505  @70L3D0 @Soy_Gian21 @EsdeProfugos A mi me vale...  \n",
       "1506  Casa INDI se prepara para una posible avalanch...  \n",
       "1507  @Pau_ar7 @solanogod Muchos están de ilegales (...  \n",
       "\n",
       "[1508 rows x 4 columns]"
      ]
     },
     "metadata": {},
     "output_type": "display_data"
    }
   ],
   "source": [
    "tweets_relevantes = pd.read_csv('tweets_relevantes.csv')\n",
    "tweets_relevantes.drop(columns=['relevante'], inplace=True)\n",
    "display(tweets_relevantes)"
   ]
  },
  {
   "cell_type": "code",
   "execution_count": 3,
   "metadata": {},
   "outputs": [
    {
     "name": "stdout",
     "output_type": "stream",
     "text": [
      "<class 'pandas.core.frame.DataFrame'>\n",
      "RangeIndex: 1508 entries, 0 to 1507\n",
      "Data columns (total 4 columns):\n",
      " #   Column      Non-Null Count  Dtype \n",
      "---  ------      --------------  ----- \n",
      " 0   keyword     1508 non-null   object\n",
      " 1   created_at  1508 non-null   object\n",
      " 2   user_id     1508 non-null   object\n",
      " 3   text        1508 non-null   object\n",
      "dtypes: object(4)\n",
      "memory usage: 47.3+ KB\n"
     ]
    },
    {
     "data": {
      "text/plain": [
       "None"
      ]
     },
     "metadata": {},
     "output_type": "display_data"
    }
   ],
   "source": [
    "display(tweets_relevantes.info())"
   ]
  }
 ],
 "metadata": {
  "kernelspec": {
   "display_name": "Python 3",
   "language": "python",
   "name": "python3"
  },
  "language_info": {
   "codemirror_mode": {
    "name": "ipython",
    "version": 3
   },
   "file_extension": ".py",
   "mimetype": "text/x-python",
   "name": "python",
   "nbconvert_exporter": "python",
   "pygments_lexer": "ipython3",
   "version": "3.12.4"
  }
 },
 "nbformat": 4,
 "nbformat_minor": 2
}
