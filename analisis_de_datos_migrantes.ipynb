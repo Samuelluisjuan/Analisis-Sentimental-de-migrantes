{
 "cells": [
  {
   "cell_type": "code",
   "execution_count": 4,
   "metadata": {},
   "outputs": [],
   "source": [
    "import pandas as pd\n",
    "import seaborn as sns \n",
    "import matplotlib.pyplot as plt\n",
    "import math\n",
    "import numpy as np\n",
    "from scipy import stats as st\n",
    "from IPython.display import display\n"
   ]
  },
  {
   "cell_type": "code",
   "execution_count": 5,
   "metadata": {},
   "outputs": [
    {
     "data": {
      "text/html": [
       "<div>\n",
       "<style scoped>\n",
       "    .dataframe tbody tr th:only-of-type {\n",
       "        vertical-align: middle;\n",
       "    }\n",
       "\n",
       "    .dataframe tbody tr th {\n",
       "        vertical-align: top;\n",
       "    }\n",
       "\n",
       "    .dataframe thead th {\n",
       "        text-align: right;\n",
       "    }\n",
       "</style>\n",
       "<table border=\"1\" class=\"dataframe\">\n",
       "  <thead>\n",
       "    <tr style=\"text-align: right;\">\n",
       "      <th></th>\n",
       "      <th>keyword</th>\n",
       "      <th>created_at</th>\n",
       "      <th>user_id</th>\n",
       "      <th>text</th>\n",
       "    </tr>\n",
       "  </thead>\n",
       "  <tbody>\n",
       "    <tr>\n",
       "      <th>0</th>\n",
       "      <td>extorsión</td>\n",
       "      <td>2024-07-09 05:43:51+00:00</td>\n",
       "      <td>85943268</td>\n",
       "      <td>@delfinagomeza Y eso qué..! No se ha bajado la...</td>\n",
       "    </tr>\n",
       "    <tr>\n",
       "      <th>1</th>\n",
       "      <td>extorsión</td>\n",
       "      <td>2024-07-09 05:34:21+00:00</td>\n",
       "      <td>1701343598220840960</td>\n",
       "      <td>@Notisistema Ellos se reportan a los altos man...</td>\n",
       "    </tr>\n",
       "    <tr>\n",
       "      <th>2</th>\n",
       "      <td>extorsión</td>\n",
       "      <td>2024-07-09 05:33:49+00:00</td>\n",
       "      <td>1655958977354817537</td>\n",
       "      <td>El chantaje crece sin contención https://t.co/...</td>\n",
       "    </tr>\n",
       "    <tr>\n",
       "      <th>3</th>\n",
       "      <td>extorsión</td>\n",
       "      <td>2024-07-09 05:25:16+00:00</td>\n",
       "      <td>1544440834938077185</td>\n",
       "      <td>@madorni Aplaudo la extorsión.   Se ve que sur...</td>\n",
       "    </tr>\n",
       "    <tr>\n",
       "      <th>4</th>\n",
       "      <td>extorsión</td>\n",
       "      <td>2024-07-09 05:24:47+00:00</td>\n",
       "      <td>1585397205376139273</td>\n",
       "      <td>No mames seguro ese es el menor de su delitos,...</td>\n",
       "    </tr>\n",
       "    <tr>\n",
       "      <th>...</th>\n",
       "      <td>...</td>\n",
       "      <td>...</td>\n",
       "      <td>...</td>\n",
       "      <td>...</td>\n",
       "    </tr>\n",
       "    <tr>\n",
       "      <th>745</th>\n",
       "      <td>esperanza</td>\n",
       "      <td>2024-07-10 20:53:25+00:00</td>\n",
       "      <td>1612610814392864768</td>\n",
       "      <td>@LaDenunciada Y tener una fecha límite de llam...</td>\n",
       "    </tr>\n",
       "    <tr>\n",
       "      <th>746</th>\n",
       "      <td>esperanza</td>\n",
       "      <td>2024-07-10 20:53:23+00:00</td>\n",
       "      <td>1783000957200076800</td>\n",
       "      <td>Si son hipócritas ...¡Echa un vistazo al vídeo...</td>\n",
       "    </tr>\n",
       "    <tr>\n",
       "      <th>747</th>\n",
       "      <td>esperanza</td>\n",
       "      <td>2024-07-10 20:53:02+00:00</td>\n",
       "      <td>1339761818</td>\n",
       "      <td>Martín villa reconoce en Mañueco TV que hizo C...</td>\n",
       "    </tr>\n",
       "    <tr>\n",
       "      <th>748</th>\n",
       "      <td>esperanza</td>\n",
       "      <td>2024-07-10 20:53:01+00:00</td>\n",
       "      <td>1790801813970522112</td>\n",
       "      <td>@BrunoRguezP De las víctimas,  miles son niños...</td>\n",
       "    </tr>\n",
       "    <tr>\n",
       "      <th>749</th>\n",
       "      <td>esperanza</td>\n",
       "      <td>2024-07-10 20:53:00+00:00</td>\n",
       "      <td>190449451</td>\n",
       "      <td>🚨 #Enterate | Personal de Protección Civil de ...</td>\n",
       "    </tr>\n",
       "  </tbody>\n",
       "</table>\n",
       "<p>750 rows × 4 columns</p>\n",
       "</div>"
      ],
      "text/plain": [
       "       keyword                 created_at              user_id  \\\n",
       "0    extorsión  2024-07-09 05:43:51+00:00             85943268   \n",
       "1    extorsión  2024-07-09 05:34:21+00:00  1701343598220840960   \n",
       "2    extorsión  2024-07-09 05:33:49+00:00  1655958977354817537   \n",
       "3    extorsión  2024-07-09 05:25:16+00:00  1544440834938077185   \n",
       "4    extorsión  2024-07-09 05:24:47+00:00  1585397205376139273   \n",
       "..         ...                        ...                  ...   \n",
       "745  esperanza  2024-07-10 20:53:25+00:00  1612610814392864768   \n",
       "746  esperanza  2024-07-10 20:53:23+00:00  1783000957200076800   \n",
       "747  esperanza  2024-07-10 20:53:02+00:00           1339761818   \n",
       "748  esperanza  2024-07-10 20:53:01+00:00  1790801813970522112   \n",
       "749  esperanza  2024-07-10 20:53:00+00:00            190449451   \n",
       "\n",
       "                                                  text  \n",
       "0    @delfinagomeza Y eso qué..! No se ha bajado la...  \n",
       "1    @Notisistema Ellos se reportan a los altos man...  \n",
       "2    El chantaje crece sin contención https://t.co/...  \n",
       "3    @madorni Aplaudo la extorsión.   Se ve que sur...  \n",
       "4    No mames seguro ese es el menor de su delitos,...  \n",
       "..                                                 ...  \n",
       "745  @LaDenunciada Y tener una fecha límite de llam...  \n",
       "746  Si son hipócritas ...¡Echa un vistazo al vídeo...  \n",
       "747  Martín villa reconoce en Mañueco TV que hizo C...  \n",
       "748  @BrunoRguezP De las víctimas,  miles son niños...  \n",
       "749  🚨 #Enterate | Personal de Protección Civil de ...  \n",
       "\n",
       "[750 rows x 4 columns]"
      ]
     },
     "metadata": {},
     "output_type": "display_data"
    }
   ],
   "source": [
    "tweets_migracion = pd.read_csv('tweets_migracion.csv')\n",
    "display(tweets_migracion)"
   ]
  },
  {
   "cell_type": "code",
   "execution_count": 4,
   "metadata": {},
   "outputs": [
    {
     "name": "stdout",
     "output_type": "stream",
     "text": [
      "<class 'pandas.core.frame.DataFrame'>\n",
      "RangeIndex: 750 entries, 0 to 749\n",
      "Data columns (total 4 columns):\n",
      " #   Column      Non-Null Count  Dtype \n",
      "---  ------      --------------  ----- \n",
      " 0   keyword     750 non-null    object\n",
      " 1   created_at  750 non-null    object\n",
      " 2   user_id     750 non-null    int64 \n",
      " 3   text        750 non-null    object\n",
      "dtypes: int64(1), object(3)\n",
      "memory usage: 23.6+ KB\n"
     ]
    },
    {
     "data": {
      "text/plain": [
       "None"
      ]
     },
     "metadata": {},
     "output_type": "display_data"
    }
   ],
   "source": [
    "display(tweets_migracion.info())"
   ]
  },
  {
   "cell_type": "code",
   "execution_count": null,
   "metadata": {},
   "outputs": [],
   "source": []
  }
 ],
 "metadata": {
  "kernelspec": {
   "display_name": "Python 3",
   "language": "python",
   "name": "python3"
  },
  "language_info": {
   "codemirror_mode": {
    "name": "ipython",
    "version": 3
   },
   "file_extension": ".py",
   "mimetype": "text/x-python",
   "name": "python",
   "nbconvert_exporter": "python",
   "pygments_lexer": "ipython3",
   "version": "3.12.4"
  }
 },
 "nbformat": 4,
 "nbformat_minor": 2
}
